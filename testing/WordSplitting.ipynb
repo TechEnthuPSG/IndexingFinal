{
  "cells": [
    {
      "cell_type": "code",
      "execution_count": 1,
      "metadata": {
        "colab": {
          "base_uri": "https://localhost:8080/"
        },
        "id": "XNyZRnH5wk1K",
        "outputId": "430806c5-2ffc-4cea-afd0-ab96fd86f0bf"
      },
      "outputs": [
        {
          "name": "stdout",
          "output_type": "stream",
          "text": [
            "Requirement already satisfied: fuzzywuzzy in c:\\users\\akash\\appdata\\local\\programs\\python\\python310\\lib\\site-packages (0.18.0)\n",
            "Requirement already satisfied: python-Levenshtein in c:\\users\\akash\\appdata\\local\\programs\\python\\python310\\lib\\site-packages (0.12.2)\n",
            "Requirement already satisfied: setuptools in c:\\users\\akash\\appdata\\local\\programs\\python\\python310\\lib\\site-packages (from python-Levenshtein) (58.1.0)\n",
            "Collecting gdown\n",
            "  Downloading gdown-4.5.1.tar.gz (14 kB)\n",
            "  Installing build dependencies: started\n",
            "  Installing build dependencies: finished with status 'done'\n",
            "  Getting requirements to build wheel: started\n",
            "  Getting requirements to build wheel: finished with status 'done'\n",
            "  Preparing metadata (pyproject.toml): started\n",
            "  Preparing metadata (pyproject.toml): finished with status 'done'\n",
            "Collecting tqdm\n",
            "  Downloading tqdm-4.64.0-py2.py3-none-any.whl (78 kB)\n",
            "     -------------------------------------- 78.4/78.4 kB 437.2 kB/s eta 0:00:00\n",
            "Collecting filelock\n",
            "  Downloading filelock-3.7.1-py3-none-any.whl (10 kB)\n",
            "Requirement already satisfied: six in c:\\users\\akash\\appdata\\local\\programs\\python\\python310\\lib\\site-packages (from gdown) (1.16.0)\n",
            "Requirement already satisfied: beautifulsoup4 in c:\\users\\akash\\appdata\\local\\programs\\python\\python310\\lib\\site-packages (from gdown) (4.11.1)\n",
            "Requirement already satisfied: requests[socks] in c:\\users\\akash\\appdata\\local\\programs\\python\\python310\\lib\\site-packages (from gdown) (2.28.1)\n",
            "Requirement already satisfied: soupsieve>1.2 in c:\\users\\akash\\appdata\\local\\programs\\python\\python310\\lib\\site-packages (from beautifulsoup4->gdown) (2.3.2.post1)\n",
            "Requirement already satisfied: charset-normalizer<3,>=2 in c:\\users\\akash\\appdata\\local\\programs\\python\\python310\\lib\\site-packages (from requests[socks]->gdown) (2.1.0)\n",
            "Requirement already satisfied: idna<4,>=2.5 in c:\\users\\akash\\appdata\\local\\programs\\python\\python310\\lib\\site-packages (from requests[socks]->gdown) (3.3)\n",
            "Requirement already satisfied: urllib3<1.27,>=1.21.1 in c:\\users\\akash\\appdata\\local\\programs\\python\\python310\\lib\\site-packages (from requests[socks]->gdown) (1.26.10)\n",
            "Requirement already satisfied: certifi>=2017.4.17 in c:\\users\\akash\\appdata\\local\\programs\\python\\python310\\lib\\site-packages (from requests[socks]->gdown) (2022.6.15)\n",
            "Collecting PySocks!=1.5.7,>=1.5.6\n",
            "  Downloading PySocks-1.7.1-py3-none-any.whl (16 kB)\n",
            "Requirement already satisfied: colorama in c:\\users\\akash\\appdata\\local\\programs\\python\\python310\\lib\\site-packages (from tqdm->gdown) (0.4.5)\n",
            "Building wheels for collected packages: gdown\n",
            "  Building wheel for gdown (pyproject.toml): started\n",
            "  Building wheel for gdown (pyproject.toml): finished with status 'done'\n",
            "  Created wheel for gdown: filename=gdown-4.5.1-py3-none-any.whl size=14933 sha256=be51c9530c80480f11e7aa5d294b605e3ee82704e1b496d61c6bc7edd7a03b72\n",
            "  Stored in directory: c:\\users\\akash\\appdata\\local\\pip\\cache\\wheels\\38\\72\\83\\dab5cb8321023eb1549d7a7d7f564b479ed4cf71edb70ddad6\n",
            "Successfully built gdown\n",
            "Installing collected packages: tqdm, PySocks, filelock, gdown\n",
            "Successfully installed PySocks-1.7.1 filelock-3.7.1 gdown-4.5.1 tqdm-4.64.0\n"
          ]
        }
      ],
      "source": [
        "!pip install fuzzywuzzy\n",
        "!pip install python-Levenshtein\n",
        "!pip install gdown"
      ]
    },
    {
      "cell_type": "markdown",
      "metadata": {},
      "source": []
    },
    {
      "cell_type": "code",
      "execution_count": null,
      "metadata": {
        "colab": {
          "base_uri": "https://localhost:8080/"
        },
        "id": "lVKz2_APwk1T",
        "outputId": "d33ebc4e-2e23-42aa-f975-1600dbbfbe33"
      },
      "outputs": [],
      "source": [
        "!gdown --id 1YSyGX_oS0zusjv9Mw8ub0ZdUC--18kvo "
      ]
    },
    {
      "cell_type": "code",
      "execution_count": null,
      "metadata": {
        "colab": {
          "base_uri": "https://localhost:8080/"
        },
        "id": "AKKkQkfhwk1U",
        "outputId": "aa1c1962-920d-40a3-c6c2-97ef843d2b84"
      },
      "outputs": [
        {
          "name": "stdout",
          "output_type": "stream",
          "text": [
            "/usr/local/lib/python3.7/dist-packages/gdown/cli.py:131: FutureWarning: Option `--id` was deprecated in version 4.3.1 and will be removed in 5.0. You don't need to pass it anymore to use a file ID.\n",
            "  category=FutureWarning,\n",
            "Downloading...\n",
            "From: https://drive.google.com/uc?id=10xmDYwtcjfNCvPLIt9bHaPbMQTAU2rM9\n",
            "To: /content/array.json\n",
            "100% 190M/190M [00:01<00:00, 178MB/s]\n"
          ]
        }
      ],
      "source": [
        "!gdown --id 10xmDYwtcjfNCvPLIt9bHaPbMQTAU2rM9"
      ]
    },
    {
      "cell_type": "code",
      "execution_count": null,
      "metadata": {
        "id": "tuZhyMl6wk1V"
      },
      "outputs": [],
      "source": [
        "import json\n",
        "from fuzzywuzzy import fuzz\n",
        "from fuzzywuzzy import process\n",
        "import pandas as pd\n",
        "import re\n",
        "import pickle"
      ]
    },
    {
      "cell_type": "code",
      "execution_count": null,
      "metadata": {
        "id": "-n3Kh86swk1X"
      },
      "outputs": [],
      "source": [
        "words = []\n",
        "with open('tokens.json') as json_file:\n",
        "    data = json.load(json_file)\n",
        "    words = list(data.keys())"
      ]
    },
    {
      "cell_type": "code",
      "execution_count": null,
      "metadata": {
        "colab": {
          "base_uri": "https://localhost:8080/"
        },
        "id": "kF8UYJqBwk1Y",
        "outputId": "6a23a118-59a4-4e42-d331-17fd2389159c"
      },
      "outputs": [
        {
          "name": "stdout",
          "output_type": "stream",
          "text": [
            "No  of Words : 449239\n"
          ]
        }
      ],
      "source": [
        "print(\"No  of Words : {}\".format(len(words)))"
      ]
    },
    {
      "cell_type": "code",
      "execution_count": null,
      "metadata": {
        "id": "zL1riFsdwk1Z"
      },
      "outputs": [],
      "source": [
        "# dataset_fab = pd.read_csv('Fabricius Dictionary.csv')\n",
        "# dataset_Kad = pd.read_csv('Kadirvelu Dictionary.csv')\n",
        "# dataset_Mc = pd.read_csv('McAlpin Dictionary.csv')\n",
        "# dataset_mos = pd.read_csv('Most used Rootwords.csv')\n",
        "# dataset_wik = pd.read_csv('Wiktionary words.csv')\n",
        "# dataset_win= pd.read_csv('Winslow.csv')\n",
        "# dataset_idd= pd.read_csv('lddttam.csv')\n",
        "\n",
        "# dataset_fab = dataset_fab.iloc[ : , :1]  # first columns\n",
        "# dataset_fab = dataset_fab[dataset_fab.columns[0]].tolist()\n",
        "\n",
        "# dataset_idd = dataset_idd.iloc[ : , :1] \n",
        "# dataset_idd = dataset_idd[dataset_idd.columns[0]].tolist()\n",
        "\n",
        "# dataset_Kad = dataset_Kad.iloc[: , :1]\n",
        "# dataset_Kad = dataset_Kad[dataset_Kad.columns[0]].tolist()\n",
        "\n",
        "# dataset_Mc = dataset_Mc.iloc[: , :1]\n",
        "# dataset_Mc = dataset_Mc[dataset_Mc.columns[0]].tolist() \n",
        "\n",
        "# dataset_mos = dataset_mos.iloc[: , :1]\n",
        "# dataset_mos = dataset_mos[dataset_mos.columns[0]].tolist()\n",
        "\n",
        "# dataset_wik = dataset_wik.iloc[:,:1]\n",
        "# dataset_wik = dataset_wik[dataset_wik .columns[0]].tolist()\n",
        "\n",
        "# dataset_win = dataset_win.iloc[1: , :1]\n",
        "# dataset_win = dataset_win[dataset_win.columns[0]].tolist()\n",
        "\n",
        "# datasets = [ dataset_idd, dataset_Kad, dataset_Mc, dataset_mos, dataset_wik, dataset_win  ]\n",
        "# words = set()\n",
        "\n",
        "# for i in datasets:\n",
        "#   for index, values in enumerate(i):\n",
        "#     values = str(values)\n",
        "#     if(len(values) == 1):\n",
        "#       i.remove(values)\n",
        "#     else:\n",
        "#       if re.search(r\"[^\\u0B80-\\u0BFF]+\", values):\n",
        "#         try:\n",
        "#           i.remove(values)\n",
        "#         except:\n",
        "#           pass\n",
        "#       elif(len(values) == 1):\n",
        "#           i.remove(values)\n",
        "#       else:\n",
        "#         words.add(values)\n",
        "\n",
        "# datasetFile = open('datasetFile.txt','w+', encoding=\"utf-8\")\n",
        "# word_list = list(words)\n",
        "# word_list.sort()\n",
        "# word_list[:10]\n",
        "\n",
        "# datasetFile.write(\"\\n\".join(word_list))\n",
        "# datasetFile.close()"
      ]
    },
    {
      "cell_type": "code",
      "execution_count": null,
      "metadata": {
        "id": "-EC9wmS0wk1c"
      },
      "outputs": [],
      "source": [
        "rootwords = []\n",
        "chdf = open('datasetFile.txt', encoding=\"utf-8\")\n",
        "for r in chdf.readlines():\n",
        "        rootwords.append(r.strip())"
      ]
    },
    {
      "cell_type": "code",
      "execution_count": null,
      "metadata": {
        "colab": {
          "base_uri": "https://localhost:8080/"
        },
        "id": "PrB2bqtpwk1e",
        "outputId": "28dc0dfe-2d2b-410b-b78f-40e6a6b689a1"
      },
      "outputs": [
        {
          "name": "stdout",
          "output_type": "stream",
          "text": [
            "No  of rootwords : 128215\n"
          ]
        }
      ],
      "source": [
        "print(\"No  of rootwords : {}\".format(len(rootwords)))"
      ]
    },
    {
      "cell_type": "code",
      "execution_count": null,
      "metadata": {
        "id": "ki1uc8tmwk1g"
      },
      "outputs": [],
      "source": [
        "def fuzzymatch(string, master = rootwords):\n",
        "  score = 0\n",
        "  arr = []\n",
        "  d = {}\n",
        "  for (i,j) in process.extract(string, master, limit = 4):\n",
        "    ratio = fuzz.partial_ratio(i,string)\n",
        "    if ratio >= 85:\n",
        "      score += 1\n",
        "      arr.append(i)\n",
        "      d[i] = ratio\n",
        "  return (score, arr, d)"
      ]
    },
    {
      "cell_type": "code",
      "execution_count": null,
      "metadata": {
        "colab": {
          "background_save": true,
          "base_uri": "https://localhost:8080/"
        },
        "id": "nHVrCIRqwk1h",
        "outputId": "9218db7d-15be-418d-f474-7ef162d28d31"
      },
      "outputs": [
        {
          "name": "stdout",
          "output_type": "stream",
          "text": [
            "\b\b\b\b\b\b\b\b\b\b\b\b\b\b\b\b\b\b\b\b\b2.010% 9028/449239"
          ]
        }
      ],
      "source": [
        "res = {}\n",
        "n = len(words)\n",
        "i = 8455\n",
        "\n",
        "for word in tuple(words)[8455:9028]: #change index here\n",
        "    #print(word)\n",
        "    (score, arr, d) = fuzzymatch(word)\n",
        "    res[word] = {\n",
        "        \"root_score\" : d\n",
        "    }\n",
        "    \n",
        "    i += 1\n",
        "    print(\"\\r\\b\\b\\b\\b\\b\\b\\b\\b\\b\\b\\b\\b\\b\\b\\b\\b\\b\\b\\b\\b\\b{:.3f}% {}/{}\".format(i*100/n,i,n), end=\"\")"
      ]
    },
    {
      "cell_type": "code",
      "execution_count": null,
      "metadata": {
        "id": "s0vZPUi0wk1j"
      },
      "outputs": [],
      "source": [
        "with open(\"output.pickle\", \"wb\") as f:\n",
        "    pickle.dump(res, f)"
      ]
    },
    {
      "cell_type": "code",
      "execution_count": null,
      "metadata": {
        "colab": {
          "base_uri": "https://localhost:8080/"
        },
        "id": "-GGQSEdDnADa",
        "outputId": "9be990ab-04ad-4b5d-cdd3-90461c9c085f"
      },
      "outputs": [
        {
          "data": {
            "text/plain": [
              "1427"
            ]
          },
          "execution_count": 13,
          "metadata": {},
          "output_type": "execute_result"
        }
      ],
      "source": [
        "len(res)"
      ]
    },
    {
      "cell_type": "code",
      "execution_count": null,
      "metadata": {
        "colab": {
          "base_uri": "https://localhost:8080/"
        },
        "id": "gx4B2ensnAyS",
        "outputId": "a2070017-3b5a-450d-ae35-26ff76a06e58"
      },
      "outputs": [
        {
          "name": "stdout",
          "output_type": "stream",
          "text": [
            "{'விண்ணிலும்': {'root_score': {}}, 'சொல்வான்': {'root_score': {}}, 'மருத்துவம்': {'root_score': {'மருத்துவம்': 100}}, 'காய்': {'root_score': {'காய்': 100}}, 'சென்றுவிட்டார்கள்': {'root_score': {}}, 'விழிக்கு': {'root_score': {'விழுக்கு': 88}}, 'அரசருடன்': {'root_score': {'அர': 100}}, 'வேறல்ல': {'root_score': {}}, 'புதர்களை': {'root_score': {}}, 'எதிரியின்': {'root_score': {}}, 'தெரிகிறதா': {'root_score': {}}, 'ஒற்றைக்': {'root_score': {'ஒற்றிக்க': 86, 'ஒற்றைக்கை': 100}}, 'எழுந்துவிட்டது': {'root_score': {}}, 'தொடவில்லை': {'root_score': {}}, 'ஒதுக்கி': {'root_score': {'ஒதுக்கு': 86, 'ஒதுக்கம்': 86, 'ஒதுக்கல்': 86, 'ஒதுக்கீடு': 86}}, 'அறுபட்டு': {'root_score': {'அற': 100}}, 'அருகணைந்த': {'root_score': {'அருகணைத்து': 89}}, 'விட்டபடி': {'root_score': {}}, 'கடந்துசென்ற': {'root_score': {}}, 'இனியும்': {'root_score': {}}, 'பதித்த': {'root_score': {}}, 'விரிந்திருந்த': {'root_score': {}}, 'பெருமுரசு': {'root_score': {}}, 'புதன்': {'root_score': {'புதன்': 100}}, 'முன்னெழுந்து': {'root_score': {}}, 'இருளும்': {'root_score': {}}, 'மழையென': {'root_score': {}}, 'நாகங்களும்': {'root_score': {'கள': 100}}, 'அச்சொல்லில்': {'root_score': {}}, 'சுரபி': {'root_score': {'சுரபி': 100}}, 'ஊடாக': {'root_score': {}}, 'அவளது': {'root_score': {'அவ': 100}}, 'வந்துவிட்டேன்': {'root_score': {}}, 'சூடான': {'root_score': {}}, 'விழிதொடும்': {'root_score': {}}, 'குறுக்கே': {'root_score': {'குறுக்கு': 88}}, 'கூச்சலிட்டன': {'root_score': {}}, 'அன்பை': {'root_score': {}}, 'மென்மை': {'root_score': {'மென்மை': 100}}, 'கௌரவர்களும்': {'root_score': {}}, 'முனகி': {'root_score': {}}, 'வகையான': {'root_score': {'கையான்': 91}}, 'திகைத்தார்': {'root_score': {}}, 'கொடுத்தான்': {'root_score': {'கடுகுடுத்தான்': 90}}, 'கண்டுகொண்டேன்': {'root_score': {}}, 'முதுமையை': {'root_score': {}}, 'நூற்றுவரும்': {'root_score': {'நூற்றுவர்': 89}}, 'தவிப்பு': {'root_score': {'தவிப்பு': 100, 'நாதவுப்பு': 86}}, 'அங்கரை': {'root_score': {}}, 'நடுங்கியபடி': {'root_score': {}}, 'பாதங்களில்': {'root_score': {}}, 'காசியின்': {'root_score': {}}, 'தட்சன்': {'root_score': {}}, 'பால்ஹிகரின்': {'root_score': {}}, 'அக்கையே': {'root_score': {}}, 'ஜயத்ரதனை': {'root_score': {'ஜய': 100}}, 'தீக்ஷணன்': {'root_score': {}}, 'லலிதை': {'root_score': {'லலிதை': 100}}, 'ஊர்களில்': {'root_score': {}}, 'உள்ளனவா': {'root_score': {'உள': 100}}, 'காவல்மாடத்தின்': {'root_score': {}}, 'ஊர்களை': {'root_score': {}}, 'தோல்வியை': {'root_score': {}}, 'பரப்பு': {'root_score': {'பரப்ப': 100, 'பரப்பு': 100}}, 'பழிநிகர்': {'root_score': {'கர': 100}}, 'அவர்களிடையே': {'root_score': {'அவ': 100}}, 'வியர்த்து': {'root_score': {}}, 'மூச்சுவாங்க': {'root_score': {'மூச்சுவாங்க': 100, 'மூச்சுவாங்கல்': 100}}, 'சந்தித்தான்': {'root_score': {}}, 'ஒருத்தியை': {'root_score': {'ஒருத்தி': 100, 'ஒருத்து': 86}}, 'அச்சொற்களைக்': {'root_score': {}}, 'எவருமறியாமல்': {'root_score': {}}, 'ஏரியின்': {'root_score': {'ஏர': 100, 'ஏரி': 100}}, 'கரந்து': {'root_score': {'கரந்துறை': 100}}, 'இளங்காற்றில்': {'root_score': {'இளங்காற்று': 90, 'இளங்கொற்றி': 90}}, 'அசைவதை': {'root_score': {}}, 'ஏக்கம்': {'root_score': {'ஏக்கம்': 100}}, 'கேட்காமல்': {'root_score': {}}, 'வலக்கால்': {'root_score': {}}, 'போடா': {'root_score': {}}, 'உருவாக்கப்பட்டது': {'root_score': {'உருவாக்கப்படு': 92, 'உர': 100}}, 'செங்குத்தாக': {'root_score': {}}, 'சலிப்பும்': {'root_score': {'சலிப்பு': 100, 'சலுப்பு': 86}}, 'நகரும்': {'root_score': {}}, 'கயிற்றை': {'root_score': {}}, 'மட்கி': {'root_score': {}}, 'நேருக்குநேர்': {'root_score': {}}, 'வந்திருந்தார்': {'root_score': {'திருந்தார்': 100}}, 'புறா': {'root_score': {}}, 'அம்புகளுக்கு': {'root_score': {}}, 'சோர்வு': {'root_score': {}}, 'இரண்டாகப்': {'root_score': {'இரண்டாகு': 88, 'இர': 100}}, 'வீழ்த்தியது': {'root_score': {}}, 'குளம்புகளை': {'root_score': {}}, 'நீரிலிருந்து': {'root_score': {}}, 'ஆழி': {'root_score': {'ஆழி': 100}}, 'சென்றபடி': {'root_score': {}}, 'கொள்கிறோம்': {'root_score': {}}, 'செய்தாய்': {'root_score': {}}, 'சிவக்க': {'root_score': {}}, 'சொல்லப்பட்ட': {'root_score': {}}, 'நாவிலிருந்து': {'root_score': {}}, 'நெறிநூல்கள்': {'root_score': {}}, 'விராட': {'root_score': {}}, 'அணைந்த': {'root_score': {}}, 'பாவம்': {'root_score': {'பாவம்': 100}}, 'வருகிறோம்': {'root_score': {}}, 'தளர்த்தி': {'root_score': {'தளர்த்தி': 100, 'தளர்த்து': 88, 'தளர்த்துதல்': 88}}, 'அச்சொற்களால்': {'root_score': {}}, 'தரப்பை': {'root_score': {}}, 'என்பவை': {'root_score': {'என': 100}}, 'மறித்து': {'root_score': {'மறித்து': 100, 'மறுத்து': 86}}, 'அவையிலேயே': {'root_score': {'அவ': 100}}, 'சிலகணங்களுக்குப்பின்': {'root_score': {}}, 'வலை': {'root_score': {'வல': 100, 'வலை': 100}}, 'போலிருக்கும்': {'root_score': {}}, 'மைந்தருக்கும்': {'root_score': {'மருந்துக்கும்': 85}}, 'பேசினேன்': {'root_score': {}}, 'குறைந்து': {'root_score': {}}, 'நுரைத்து': {'root_score': {'நிரைத்த': 86}}, 'உத்தாலகர்': {'root_score': {}}, 'பெருகிக்கொண்டே': {'root_score': {}}, 'பேசிக்கொண்டிருக்கிறார்கள்': {'root_score': {}}, 'அவனுக்குள்': {'root_score': {}}, 'நனைத்து': {'root_score': {}}, 'விரும்புகிறார்கள்': {'root_score': {}}, 'மதுவும்': {'root_score': {}}, 'அணிந்திருந்தனர்': {'root_score': {}}, 'பேரரசர்கள்': {'root_score': {'கள': 100}}, 'கலங்கிய': {'root_score': {}}, 'தேர்வு': {'root_score': {}}, 'குரலெழுப்பி': {'root_score': {'குரலெழுப்பு': 91}}, 'அடிமை': {'root_score': {'அடிமை': 100}}, 'காத்திருக்கின்றன': {'root_score': {'காத்திருக்க': 100}}, 'அவையமர்ந்து': {'root_score': {}}, 'திறந்தது': {'root_score': {}}, 'பறவையின்': {'root_score': {'பறவையினம்': 88, 'ன்': 100, 'பற': 100}}, 'வழிகாட்டி': {'root_score': {'வழிகாட்ட': 100, 'வழிகாட்டி': 100, 'வழிகாட்டு': 89}}, 'தலைக்குள்': {'root_score': {}}, 'உணர்வது': {'root_score': {'உண': 100, 'உணர்': 100}}, 'வயிற்றுக்குள்': {'root_score': {'அவயிற்றுக்குள்': 100}}, 'அளிப்பேன்': {'root_score': {'அளிப்பு': 86, 'அள': 100}}, 'பெரு': {'root_score': {}}, 'மான்தோல்': {'root_score': {'முன்தோல்': 88, 'மென்தோல்': 88}}, 'விழிவிரித்து': {'root_score': {}}, 'மருத்துவன்': {'root_score': {'மருத்துவன்': 100}}, 'வெறுப்பும்': {'root_score': {}}, 'அடித்தளம்': {'root_score': {'அடித்தளம்': 100, 'அடித்தி': 86}}, 'வடிவங்கள்': {'root_score': {'கள': 100}}, 'காளை': {'root_score': {'காளை': 100}}, 'சூதப்பெண்': {'root_score': {}}, 'முழவை': {'root_score': {}}, 'இருந்திருக்கிறது': {'root_score': {}}, 'விண்ணுக்கு': {'root_score': {}}, 'ஆஸ்திகன்': {'root_score': {'ஆஸ்திகன்': 100}}, 'விண்ணுலகு': {'root_score': {'விண்ணுலகு': 100, 'விண்ணுலகம்': 89}}, 'இன்றுடன்': {'root_score': {'இன்': 100}}, 'கிருபி': {'root_score': {'கிருபி': 100}}, 'சாரிகை': {'root_score': {'சாரிகை': 100}}, 'கிரந்திகன்': {'root_score': {}}, 'சுநீதர்': {'root_score': {'சுந்தர்': 86}}, 'பூரணர்': {'root_score': {}}, 'கரைநோக்கி': {'root_score': {}}, 'மலர்களையும்': {'root_score': {'கள': 100}}, 'விளையாடி': {'root_score': {'விளையாடு': 88}}, 'அனுப்பிவிட்டு': {'root_score': {'அனுப்பிவிட': 100}}, 'அளிப்பார்கள்': {'root_score': {'அள': 100, 'அளி': 100}}, 'எண்ணியிராத': {'root_score': {}}, 'நம்பவில்லை': {'root_score': {'நம': 100, 'நம்': 100}}, 'ஒருநாளில்': {'root_score': {'ஒருநாள்': 86}}, 'காலையொளி': {'root_score': {}}, 'சீறியபடி': {'root_score': {}}, 'பதினேழு': {'root_score': {'பதினேழு': 100}}, 'செல்லவும்': {'root_score': {}}, 'வாய்ப்பே': {'root_score': {'வாய்ப்பு': 88, 'வாய்ப்பை': 88}}, 'பாதம்': {'root_score': {'பாதம்': 100}}, 'ஓராண்டு': {'root_score': {'ஓராட்டு': 86}}, 'செயலிழந்து': {'root_score': {}}, 'சூழ்ந்துகொண்டன': {'root_score': {}}, 'அணிந்திருந்தான்': {'root_score': {}}, 'தலையசைக்க': {'root_score': {'தலையசைக்க': 100}}, 'மற்போர்': {'root_score': {}}, 'ஓரவிழியால்': {'root_score': {}}, 'தனிமையும்': {'root_score': {}}, 'உள்ளத்தையும்': {'root_score': {}}, 'வரும்வரை': {'root_score': {}}, 'பதற்றத்தை': {'root_score': {}}, 'இளவேனில்': {'root_score': {'இளவேனில்': 100, 'இளவிளவேனில்': 88}}, 'உவகையும்': {'root_score': {}}, 'துயின்றுகொண்டிருந்த': {'root_score': {}}, 'கிளைகளை': {'root_score': {}}, 'மேற்பட்ட': {'root_score': {'மேற்பட்டை': 100}}, 'கேட்டுக்கொண்டிருந்தார்': {'root_score': {}}, 'விதிர்க்க': {'root_score': {}}, 'திரைச்சீலை': {'root_score': {'திரிச்சீலை': 90, 'திரைச்சீலை': 100}}, 'சென்றுகொண்டிருந்தனர்': {'root_score': {}}, 'அறிந்தவை': {'root_score': {'அற': 100, 'அறி': 100}}, 'விழிகூர்ந்து': {'root_score': {}}, 'பொழியும்': {'root_score': {}}, 'ஈட்டிய': {'root_score': {'ஈட்டியது': 100}}, 'தொடங்கியதுமே': {'root_score': {}}, 'வென்றவர்': {'root_score': {}}, 'தயங்கியபடி': {'root_score': {}}, 'நட்பு': {'root_score': {'நட்பு': 100}}, 'கிளம்பியபோது': {'root_score': {}}, 'தேவையான': {'root_score': {}}, 'சந்திப்போம்': {'root_score': {'சந்திப்பு': 89}}, 'பாண்டவர்களுக்கு': {'root_score': {}}, 'எண்ணுகிறீர்களா': {'root_score': {}}, 'செய்யட்டும்': {'root_score': {}}, 'திருத்தி': {'root_score': {'திருத்தி': 100, 'திருத்து': 88, 'துருத்தி': 88}}, 'நீரையும்': {'root_score': {}}, 'மூடர்கள்': {'root_score': {}}, 'செடிகள்': {'root_score': {}}, 'வெண்ணிறக்': {'root_score': {}}, 'இருந்திருந்தால்': {'root_score': {}}, 'நினைவுகூர்ந்து': {'root_score': {}}, 'அன்றுதான்': {'root_score': {}}, 'அசைவின்மை': {'root_score': {'அசைவின்மை': 100}}, 'சொல்லக்கூடும்': {'root_score': {}}, 'நாட்டிலிருந்து': {'root_score': {}}, 'நிஷாதர்கள்': {'root_score': {'கள': 100}}, 'அவரையும்': {'root_score': {}}, 'இவருக்கு': {'root_score': {}}, 'விரிவாக': {'root_score': {'விரிவாக': 100, 'விரைவாக': 86}}, 'மத்ரநாட்டு': {'root_score': {}}, 'அறிவின்': {'root_score': {'அறிவினா': 86, 'அறிவின்மை': 100}}, 'அகன்றான்': {'root_score': {'அகன்ற': 100, 'அக': 100, 'அகன்': 100}}, 'நிறுத்திய': {'root_score': {}}, 'மாற்ற': {'root_score': {'மாற்ற': 100, 'மாற்றி': 100, 'மாற்று': 100}}, 'அடுமனைப்': {'root_score': {'அடுமனை': 100}}, 'கருவறையில்': {'root_score': {'கருவறிய': 86, 'கர': 100}}, 'வாழ்த்துகிறேன்': {'root_score': {}}, 'பாண்டவரை': {'root_score': {'பாண்டவர்': 88}}, 'இறுதிச்': {'root_score': {}}, 'வைக்கப்பட்டிருந்தது': {'root_score': {}}, 'குளிர்நீர்': {'root_score': {}}, 'கூச்சல்களும்': {'root_score': {}}, 'படபடத்தது': {'root_score': {}}, 'மைந்தரில்': {'root_score': {}}, 'அமர்ந்துகொண்டனர்': {'root_score': {}}, 'கண்ணீரும்': {'root_score': {}}, 'தழைய': {'root_score': {}}, 'நிறைவுறுக': {'root_score': {}}, 'விட்டது': {'root_score': {}}, 'நிகழலாகாது': {'root_score': {}}, 'மதுரா': {'root_score': {}}, 'செயல்களை': {'root_score': {}}, 'பல்வேறு': {'root_score': {'பல்வேறு': 100, 'பல்வேறாக': 86}}, 'முன்னே': {'root_score': {}}, 'அகல்க': {'root_score': {'அகல்கை': 100}}, 'மதம்': {'root_score': {'மதம்': 100, 'அக்ஷபாதமதம்': 100, 'அசம்மதம்': 100}}, 'பிதுங்கி': {'root_score': {'பிதுங்கு': 88}}, 'முன்பொருமுறை': {'root_score': {}}, 'சுழி': {'root_score': {'சுழி': 100}}, 'உணராமல்': {'root_score': {'உண': 100}}, 'செந்தழல்': {'root_score': {'செந்தழல்': 100}}, 'விட்டேன்': {'root_score': {'ஆழிவிட்டோன்': 88}}, 'தேரிலேறி': {'root_score': {}}, 'பருத்த': {'root_score': {'பருத்தி': 100}}, 'குவளை': {'root_score': {'குவளை': 100}}, 'இருளே': {'root_score': {}}, 'தொட்டால்': {'root_score': {'தொட்டில்': 88}}, 'சித்ராங்கதர்': {'root_score': {}}, 'அழுதேன்': {'root_score': {}}, 'அழத்தொடங்கினான்': {'root_score': {}}, 'தெய்வமே': {'root_score': {'தெய்வம்': 86}}, 'முட்டிக்கொண்டு': {'root_score': {}}, 'வலக்காலை': {'root_score': {}}, 'ஒலியைக்': {'root_score': {}}, 'மன்னரின்': {'root_score': {'மன்னினை': 86}}, 'சொல்லியிருக்கிறேன்': {'root_score': {}}, 'பசுக்களை': {'root_score': {}}, 'நூறுமடங்கு': {'root_score': {}}, 'லட்சம்': {'root_score': {'லட்சம்': 100, 'பிலட்சம்': 100, 'இலட்சம்': 100}}, 'கௌசிகர்': {'root_score': {'கைசிகர்': 86}}, 'புகுந்தான்': {'root_score': {}}, 'யாக்ஞவல்கியர்': {'root_score': {}}, 'நூலை': {'root_score': {}}, 'துளியை': {'root_score': {}}, 'அலைபாய': {'root_score': {}}, 'சொல்லுக்கும்': {'root_score': {}}, 'காத்திருப்பது': {'root_score': {}}, 'வியந்தார்': {'root_score': {}}, 'மன்றில்': {'root_score': {'மன்றில்': 100, 'மகன்றில்': 86}}, 'கொண்டுவந்தான்': {'root_score': {}}, 'செல்லவே': {'root_score': {}}, 'அகவையில்': {'root_score': {'அகவாயில்': 88, 'அக': 100}}, 'படைவீரர்களை': {'root_score': {'படைவீரர்': 100, 'கள': 100}}, 'முதல்வன்': {'root_score': {'முதல்வன்': 100, 'ஊழிமுதல்வன்': 100}}, 'தொடுகை': {'root_score': {'தொடுகை': 100}}, 'இச்சிறு': {'root_score': {}}, 'முதுமையில்': {'root_score': {}}, 'அலைகளின்': {'root_score': {'அல': 100}}, 'உங்களைத்': {'root_score': {}}, 'தொட்டதுமே': {'root_score': {}}, 'விழிகளைக்': {'root_score': {}}, 'எண்ணுகிறாயா': {'root_score': {}}, 'சீவி': {'root_score': {}}, 'பெண்டிரும்': {'root_score': {}}, 'முழவு': {'root_score': {'முழவு': 100}}, 'முதுகு': {'root_score': {'முதுகு': 100}}, 'இந்நாள்': {'root_score': {'இந்நாள்': 100, 'நா': 100}}, 'அதிர்ந்த': {'root_score': {}}, 'அருகிலென': {'root_score': {'அருகில்': 86}}, 'அரண்மனைச்': {'root_score': {'அரண்மனை': 100, 'அர': 100}}, 'குதிரைகளும்': {'root_score': {}}, 'சொல்லப்போவதில்லை': {'root_score': {}}, 'சாத்யகியிடம்': {'root_score': {}}, 'தாக்கும்': {'root_score': {}}, 'உச்சகட்ட': {'root_score': {}}, 'கவசங்களும்': {'root_score': {'கள': 100}}, 'செய்தாலும்': {'root_score': {}}, 'இழுத்தபடி': {'root_score': {'இழுத்தடி': 88}}, 'நிகழ்ந்ததென்று': {'root_score': {}}, 'அரசமுறைப்படி': {'root_score': {'அர': 100}}, 'இதைத்தான்': {'root_score': {}}, 'வந்திருப்பது': {'root_score': {}}, 'அவ்விரு': {'root_score': {}}, 'காதலை': {'root_score': {}}, 'இயல்வது': {'root_score': {'இய': 100}}, 'தளர்ந்தான்': {'root_score': {}}, 'மஞ்சத்தின்': {'root_score': {}}, 'நரைத்த': {'root_score': {}}, 'தோளைத்தொட்டு': {'root_score': {}}, 'அவந்தி': {'root_score': {'அவந்தி': 100}}, 'மனைவியர்': {'root_score': {}}, 'இருமருங்கும்': {'root_score': {}}, 'அமர்ந்திருந்தார்கள்': {'root_score': {'அமர': 100, 'அமர்': 100}}, 'விலகியது': {'root_score': {'கி': 100}}, 'எண்ணுவதென்ன': {'root_score': {'எண்': 100, 'எண்ணு': 100}}, 'உண்பது': {'root_score': {'உண': 100}}, 'விலக்கினான்': {'root_score': {}}, 'வைக்கிறது': {'root_score': {}}, 'அழைக்கிறேன்': {'root_score': {}}, 'எல்லையைக்': {'root_score': {}}, 'ஓசையே': {'root_score': {'ஓசை': 100}}, 'திரட்டிக்கொண்டு': {'root_score': {}}, 'விரிசல்': {'root_score': {'விரிசல்': 100}}, 'ஷத்ரியக்': {'root_score': {}}, 'இடையிலிருந்து': {'root_score': {}}, 'கொல்லலாம்': {'root_score': {}}, 'முலைப்பால்': {'root_score': {'முலைப்பாலி': 90, 'முலைப்பால்': 100}}, 'அதிர்ந்துகொண்டிருந்தது': {'root_score': {}}, 'கண்டடைய': {'root_score': {}}, 'வந்ததில்லை': {'root_score': {'ததி': 100}}, 'தலைமுறைக்காலம்': {'root_score': {}}, 'மறுமுறை': {'root_score': {'மறுமுறை': 100}}, 'நிறைத்த': {'root_score': {'நிறுத்து': 86, 'கண்நிறைந்த': 86}}, 'சொன்னதில்லை': {'root_score': {}}, 'எண்ணியிராக்': {'root_score': {}}, 'தீய': {'root_score': {'தீய': 100}}, 'பெருகிச்': {'root_score': {}}, 'தெறித்த': {'root_score': {}}, 'கண்ணே': {'root_score': {'கண்ண': 100}}, 'ஒருவருக்கு': {'root_score': {'ஒருவருக்காக': 90, 'ஒருவருக்கொரு': 90}}, 'அளிக்கப்பட்டுள்ளது': {'root_score': {}}, 'மைந்தனிடம்': {'root_score': {}}, 'பொழிந்தது': {'root_score': {}}, 'கட்டினான்': {'root_score': {}}, 'அறிகிறது': {'root_score': {}}, 'அணுக்கம்': {'root_score': {'அணுக்கம்': 100, 'அணோக்கம்': 88}}, 'கொண்டால்': {'root_score': {}}, 'விலா': {'root_score': {}}, 'நீர்ப்பரப்பு': {'root_score': {'நீர்ப்பரப்பு': 100, 'நீர்ப்போர்': 90}}, 'அவையோர்': {'root_score': {}}, 'யுயுத்ஸுவை': {'root_score': {}}, 'திரும்பிச்சென்றான்': {'root_score': {}}, 'அம்புகளையும்': {'root_score': {}}, 'எதிர்கொண்டார்': {'root_score': {}}, 'நிகழ்வதென்ன': {'root_score': {}}, 'இன்நீர்': {'root_score': {}}, 'வெல்லவேண்டும்': {'root_score': {}}, 'விலக்கிக்': {'root_score': {}}, 'பின்வாங்கி': {'root_score': {'பின்வாங்கு': 90}}, 'பதினொரு': {'root_score': {}}, 'வளையல்கள்': {'root_score': {'கள': 100}}, 'அம்புகளுடன்': {'root_score': {'அம்': 100}}, 'காத்திருந்தாள்': {'root_score': {}}, 'மண்ணிலும்': {'root_score': {}}, 'கண்களின்': {'root_score': {}}, 'வினாக்களை': {'root_score': {}}, 'அழைக்கப்பட்டது': {'root_score': {}}, 'இதிலிருந்து': {'root_score': {}}, 'பொருட்படுத்தவில்லை': {'root_score': {}}, 'அஞ்சினான்': {'root_score': {'அஞ்சினி': 86, 'அஞ்சி': 100}}, 'கொடிய': {'root_score': {'கொடிய': 100}}, 'தத்துவம்': {'root_score': {'தத்துவம்': 100, 'அகாதத்துவம்': 100, 'கலாதத்துவம்': 100}}, 'சூழ்கையை': {'root_score': {}}, 'பணம்': {'root_score': {'பணம்': 100, 'அங்குரார்ப்பணம்': 100, 'அபராதக்ஷாபணம்': 100, 'அம்பணம்': 100}}, 'விழைகிறோம்': {'root_score': {}}, 'நிறுவி': {'root_score': {}}, 'மைத்ரேயர்': {'root_score': {}}, 'குமட்டி': {'root_score': {'குமட்டி': 100, 'குமட்டு': 86, 'கோமட்டி': 86}}, 'ஆநிரை': {'root_score': {'ஆநிரை': 100, 'ஆநிரைகாத்தோன்': 100}}, 'தூதர்கள்': {'root_score': {}}, 'மகத': {'root_score': {'மகதி': 100, 'மகதை': 100, 'ஆத்துமகத்தியை': 100}}, 'களம்பட்ட': {'root_score': {'கள': 100}}, 'பிருஹத்சேனர்': {'root_score': {}}, 'அஸ்வகன்': {'root_score': {'கன': 100}}, 'கர்ணா': {'root_score': {}}, 'ரக்தபீஜன்': {'root_score': {}}, 'கிருபை': {'root_score': {'கிருபை': 100}}, 'க்ஷேமதூர்த்தி': {'root_score': {}}, 'வீடு': {'root_score': {}}, 'சித்திரை': {'root_score': {'சாத்திரை': 88, 'சித்திரி': 88}}, 'ஒரேசமயம்': {'root_score': {'ஒரே': 100}}, 'துறைமேடையில்': {'root_score': {}}, 'அறிந்திருக்க': {'root_score': {}}, 'அணுகினர்': {'root_score': {}}, 'மைந்தனுடன்': {'root_score': {'தனு': 100}}, 'மீள்வேன்': {'root_score': {}}, 'பேசிக்கொண்டு': {'root_score': {}}, 'ஆணையிட்டுவிட்டு': {'root_score': {'ஆணை': 100, 'ஆணையிட': 100}}, 'கொள்ளச்செய்தது': {'root_score': {}}, 'இலக்குகள்': {'root_score': {'இல': 100}}, 'மிகத்தொலைவில்': {'root_score': {}}, 'மகவு': {'root_score': {'மகவு': 100}}, 'கந்தர்வர்களும்': {'root_score': {'கந்தருவர்': 89, 'கந்தர்': 100, 'கந்தர்வ': 100}}, 'துளித்து': {'root_score': {}}, 'தந்தையரின்': {'root_score': {'தந்தையர்': 88}}, 'கோல்கொண்டு': {'root_score': {}}, 'மீள்வது': {'root_score': {}}, 'உறுதியுடன்': {'root_score': {}}, 'வடிவ': {'root_score': {'வடிவு': 100}}, 'பேருருவ': {'root_score': {}}, 'தொடங்கியிருந்தது': {'root_score': {}}, 'இறங்கினார்': {'root_score': {}}, 'துச்சாதனர்': {'root_score': {}}, 'வாழ்த்தியபின்': {'root_score': {}}, 'ஆனதாக': {'root_score': {}}, 'மானுடனுக்கு': {'root_score': {}}, 'அறிந்திருப்பீர்': {'root_score': {}}, 'வந்துகொண்டிருந்தனர்': {'root_score': {}}, 'ஆயினர்': {'root_score': {'ஆயி': 100}}, 'தவளை': {'root_score': {'தவளை': 100}}, 'அறிந்திருக்கிறார்': {'root_score': {}}, 'புண்கள்': {'root_score': {'பெண்கள்': 86}}, 'அறிந்துகொண்டான்': {'root_score': {}}, 'நடுவில்': {'root_score': {'நடுவிலே': 86, 'நடுவிலான்': 86}}, 'இடைமறித்து': {'root_score': {'இட': 100}}, 'வலியில்': {'root_score': {}}, 'தழைத்து': {'root_score': {}}, 'போர்முரசு': {'root_score': {'போர்முரசு': 100}}, 'மூத்தவரும்': {'root_score': {}}, 'அழைப்பை': {'root_score': {'அழைப்பு': 86}}, 'நிஷத': {'root_score': {'உபநிஷதம்': 100}}, 'மரக்கிளைகள்': {'root_score': {}}, 'இருக்கிறார்களா': {'root_score': {}}, 'முறையே': {'root_score': {}}, 'நிகழலாம்': {'root_score': {}}, 'புன்னகைக்க': {'root_score': {}}, 'இளவரசருக்கு': {'root_score': {'இளவரசர்': 86}}, 'சொற்களுடன்': {'root_score': {}}, 'பிடித்துக்கொண்டான்': {'root_score': {}}, 'அதேபோல': {'root_score': {}}, 'அளிப்பதாக': {'root_score': {}}, 'தோலை': {'root_score': {}}, 'மயிர்': {'root_score': {'மயிர்': 100, 'அரிவிமயிர்': 100, 'ஆட்டுமயிர்ச்சரக்கு': 100}}, 'தலைநிமிர்ந்து': {'root_score': {'தலைநிமிர்த்த': 92, 'தலைநிமிர்த்துதல்': 92}}, 'ஆவேன்': {'root_score': {'ஆவ': 100}}, 'நிற்கிறேன்': {'root_score': {}}, 'கீழ்மகன்': {'root_score': {'கீழ்மகன்': 100}}, 'விழிகளாக': {'root_score': {}}, 'வழிபடுகிறார்கள்': {'root_score': {'கள': 100}}, 'உணரமுடியும்': {'root_score': {}}, 'மீசை': {'root_score': {}}, 'அணங்கு': {'root_score': {'அணங்கு': 100}}, 'கிளம்புவதற்கு': {'root_score': {}}, 'கள்ளும்': {'root_score': {}}, 'இருப்போம்': {'root_score': {'இருப்பு': 86}}, 'ருக்மிணியின்': {'root_score': {}}, 'எஞ்சி': {'root_score': {}}, 'நாலைந்து': {'root_score': {'நாலைந்து': 100}}, 'சிறந்தது': {'root_score': {}}, 'சூரசேனரின்': {'root_score': {}}, 'பாகனிடம்': {'root_score': {}}, 'அரண்மனைக்': {'root_score': {'அரண்மனை': 100}}, 'செவிலியர்': {'root_score': {'செவிலியர்': 100}}, 'முகமாக': {'root_score': {}}, 'பீமசேனரின்': {'root_score': {'பீமசேனர்': 88}}, 'எஞ்சியிருப்பது': {'root_score': {}}, 'அமரச்செய்தனர்': {'root_score': {'அமர': 100}}, 'படைக்கலப்': {'root_score': {}}, 'அருந்தும்': {'root_score': {'அருத்து': 86}}, 'எங்குள்ளது': {'root_score': {}}, 'பேரழகி': {'root_score': {'பேரழகி': 100}}, 'இருந்தபோது': {'root_score': {}}, 'மண்ணைத்': {'root_score': {}}, 'வியர்வையில்': {'root_score': {}}, 'உதடு': {'root_score': {'உதடு': 100, 'உதடுகருக': 100, 'உதடுதுடிக்க': 100, 'உதடுபிதுக்கி': 100}}, 'கொந்தளித்தது': {'root_score': {}}, 'ஐவர்': {'root_score': {'ஐவர்': 100, 'ஐவர்ணம்': 100}}, 'விழுந்தபோது': {'root_score': {}}, 'தெரிந்தான்': {'root_score': {'அன்றெரிந்தான்': 90}}, 'செல்லாமல்': {'root_score': {}}, 'பெண்ணாக': {'root_score': {'புண்ணாக': 86}}, 'மூடியபடி': {'root_score': {}}, 'போலிருக்கிறார்': {'root_score': {}}, 'மாற்றுரு': {'root_score': {}}, 'தங்களுக்கான': {'root_score': {'கள': 100}}, 'மனிதர்களை': {'root_score': {'கள': 100}}, 'மழையின்': {'root_score': {'மழையான்': 86, 'மழையின்மை': 100}}, 'இடி': {'root_score': {'இட': 100, 'இடி': 100}}, 'கொடிகளை': {'root_score': {}}, 'கட்டியிருந்த': {'root_score': {}}, 'மாவீரன்': {'root_score': {'மாவீரன்': 100}}, 'புன்னகைசெய்தாள்': {'root_score': {}}, 'இதுநாள்': {'root_score': {}}, 'தமக்கை': {'root_score': {'தமக்கை': 100}}, 'பூதம்': {'root_score': {}}, 'எழாமல்': {'root_score': {}}, 'உள்ளிருக்கும்': {'root_score': {}}, 'காமமும்': {'root_score': {}}, 'சென்னை': {'root_score': {}}, 'மறைவதை': {'root_score': {}}, 'ரைவதகர்': {'root_score': {'கர': 100}}, 'பொறுமை': {'root_score': {'பொறுமை': 100}}, 'படைவீரர்': {'root_score': {'படைவீரர்': 100}}, 'நடக்கத்': {'root_score': {}}, 'ஆசிரியரை': {'root_score': {'ஆசிரியர்': 88}}, 'வையுங்கள்': {'root_score': {}}, 'தன்முன்': {'root_score': {}}, 'தொடங்கினேன்': {'root_score': {}}, 'பெருவாயில்': {'root_score': {'பெருவாயில்': 100}}, 'சோலையில்': {'root_score': {}}, 'ஒளிகொண்டது': {'root_score': {}}, 'கொண்டுவருக': {'root_score': {}}, 'பின்னடைந்தார்': {'root_score': {}}, 'குருக்ஷேத்ரத்தை': {'root_score': {}}, 'வருணனின்': {'root_score': {}}, 'காந்தாரியை': {'root_score': {}}, 'பானுமதியின்': {'root_score': {}}, 'சீர்ஷர்': {'root_score': {}}, 'தொடர்பு': {'root_score': {'தொடர்பு': 100}}, 'தழலென': {'root_score': {}}, 'ஆணையிட்டபடி': {'root_score': {'ஆணை': 100, 'ஆணையிட': 100}}, 'துயில்க': {'root_score': {}}, 'மாவீரர்': {'root_score': {}}, 'காணலாம்': {'root_score': {}}, 'உதிர்ந்தது': {'root_score': {'உதி': 100}}, 'பேசிக்கொண்டிருந்தார்': {'root_score': {}}, 'பிறிதொருவனாக': {'root_score': {}}, 'செல்வதற்காக': {'root_score': {}}, 'செல்பவன்': {'root_score': {}}, 'முடிந்துவிடும்': {'root_score': {}}, 'சிற்றடி': {'root_score': {'சிற்றடி': 100}}, 'இளவரசரும்': {'root_score': {'இளவரசர்': 86}}, 'ஆகாது': {'root_score': {'ஆகாத': 100}}, 'அறிகிறார்கள்': {'root_score': {}}, 'முகில்களில்': {'root_score': {}}, 'படுத்திருந்தாள்': {'root_score': {}}, 'தோள்பற்றி': {'root_score': {}}, 'விழைவதென்ன': {'root_score': {}}, 'சென்றடையவில்லை': {'root_score': {}}, 'சுற்றிய': {'root_score': {}}, 'மூச்சொலியுடன்': {'root_score': {}}, 'இடமே': {'root_score': {'இட': 100}}, 'வடிவாக': {'root_score': {'வடிவாக': 100}}, 'விழுந்தால்': {'root_score': {}}, 'ஆணையிட்டது': {'root_score': {'ஆணை': 100, 'ஆணையிட': 100}}, 'வெல்வான்': {'root_score': {}}, 'சொல்லிக்கொண்டிருந்தான்': {'root_score': {}}, 'இந்நகருக்குள்': {'root_score': {}}, 'வேட்டைக்குச்': {'root_score': {}}, 'கதாயுதத்தை': {'root_score': {}}, 'ஆலயங்களில்': {'root_score': {}}, 'ஆற்றில்': {'root_score': {}}, 'கற்றேன்': {'root_score': {'கோற்றேன்': 86}}, 'முயன்ற': {'root_score': {}}, 'ஒப்ப': {'root_score': {'ஒப்ப': 100, 'ஒப்பி': 100, 'ஒப்பு': 100}}, 'உதவி': {'root_score': {'உதவி': 100}}, 'அத்திசை': {'root_score': {}}, 'அம்பில்': {'root_score': {'அம்பால்': 86, 'அம்பிலி': 86, 'அம்பேல்': 86}}, 'போட்டுக்கொண்டு': {'root_score': {'இட்டுக்கொண்டுபோதல்': 86}}, 'கொற்றவையின்': {'root_score': {}}, 'தயக்கமும்': {'root_score': {'தயக்கம்': 86}}, 'இவர்களிடம்': {'root_score': {'இவர்': 100, 'இவர்கள்': 86}}, 'வாழ்த்துக்கள்': {'root_score': {}}, 'இந்நகருக்கு': {'root_score': {'கர': 100}}, 'கணக்குகள்': {'root_score': {}}, 'அழைத்தபடி': {'root_score': {}}, 'அவைக்குச்': {'root_score': {'அவாக்கு': 86}}, 'ஆள்கிறது': {'root_score': {}}, 'போதுமானது': {'root_score': {}}, 'ஈன்ற': {'root_score': {'ஈன்': 100}}, 'அரசர்களே': {'root_score': {'அர': 100, 'அரசர்': 100}}, 'மிக்கது': {'root_score': {'மிக்கது': 100}}, 'இருப்பதனால்': {'root_score': {}}, 'சூழ்ந்துகொண்டு': {'root_score': {}}, 'என்றுமே': {'root_score': {'என்றும்': 86}}, 'அவருக்கான': {'root_score': {}}, 'விராடபுரியின்': {'root_score': {}}, 'மாலையே': {'root_score': {}}, 'மத்ர': {'root_score': {}}, 'வெளியேறி': {'root_score': {'வெளியேறு': 88}}, 'அளித்தால்': {'root_score': {'அளித்து': 86}}, 'அமர்ந்தால்': {'root_score': {'அமர்ந்து': 88}}, 'சென்றடைந்தனர்': {'root_score': {}}, 'அளிக்கலாம்': {'root_score': {}}, 'நீங்கள்தான்': {'root_score': {}}, 'அஞ்சவில்லை': {'root_score': {'சவி': 100}}, 'கார்வை': {'root_score': {'கார்வை': 100}}, 'அன்றாடம்': {'root_score': {'அன்றாடம்': 100, 'அன்றாடகம்': 88, 'அன்றாட': 100}}, 'நிலைதடுமாறி': {'root_score': {'நிலைதடுமாறல்': 91}}, 'கருவூலத்தில்': {'root_score': {}}, 'கடிவாளம்': {'root_score': {'கடிவாளம்': 100, 'கடிவாள்': 86}}, 'அஸ்தினபுரியும்': {'root_score': {}}, 'எடுத்துப்': {'root_score': {'எடுத்து': 100}}, 'காவலரும்': {'root_score': {}}, 'புளித்த': {'root_score': {}}, 'அடக்க': {'root_score': {'அடக்கி': 100, 'அடக்கு': 100, 'அடக்காவி': 100, 'அடக்கிவை': 100}}, 'ஒளிகொண்டிருந்தன': {'root_score': {}}, 'என்னையே': {'root_score': {'என': 100}}, 'முயல்கிறார்கள்': {'root_score': {}}, 'தங்களைப்': {'root_score': {}}, 'சென்றடைந்தான்': {'root_score': {}}, 'சிக்கிய': {'root_score': {}}, 'அரண்மனைப்': {'root_score': {'அரண்மனை': 100, 'அர': 100}}, 'தேரும்': {'root_score': {}}, 'எலும்பு': {'root_score': {'எலும்பி': 86, 'எலும்பு': 100, 'எலும்பிலி': 86, 'எலும்பூற': 86}}, 'நாணிழுத்து': {'root_score': {}}, 'செய்தாகவேண்டும்': {'root_score': {}}, 'மேடைக்கு': {'root_score': {}}, 'படுத்துக்கொண்டு': {'root_score': {}}, 'சூதர்களை': {'root_score': {}}, 'இசைச்சூதரும்': {'root_score': {'இசை': 100}}, 'ஒவ்வொருவரையாக': {'root_score': {'ஒவ்வொருவர்': 90}}, 'பெருமுரசுகள்': {'root_score': {}}, 'அளிக்கும்படி': {'root_score': {}}, 'அங்காரகன்': {'root_score': {'அங்காரகன்': 100, 'அங்காரன்': 88}}, 'தாலங்களுடன்': {'root_score': {'கள': 100}}, 'வெறிகொண்ட': {'root_score': {}}, 'சகதேவனையும்': {'root_score': {}}, 'உதடுகளைக்': {'root_score': {'உதடு': 100}}, 'வேலும்': {'root_score': {}}, 'ஆட்சியில்': {'root_score': {}}, 'அசையவில்லை': {'root_score': {}}, 'எறும்புகள்': {'root_score': {'எறும்பி': 86, 'எறும்பு': 100}}, 'கொண்டதும்': {'root_score': {}}, 'இதுவா': {'root_score': {}}, 'பெண்ணென': {'root_score': {}}, 'செய்தபின்': {'root_score': {}}, 'பரவின': {'root_score': {'பர': 100}}, 'ஒருபக்கம்': {'root_score': {'ஒருக்கம்': 88, 'ஒரு': 100}}, 'கொண்டவராக': {'root_score': {}}, 'கரங்கள்': {'root_score': {'கருங்களா': 86, 'கருங்களி': 86, 'இருதலைப்பகரங்கள்': 100, 'கர': 100}}, 'பட்டும்': {'root_score': {}}, 'பேதை': {'root_score': {}}, 'பிரபாச': {'root_score': {}}, 'வாழ்ந்தார்': {'root_score': {}}, 'தெய்வமான': {'root_score': {'தெய்வமுனி': 88}}, 'தொல்குடிகள்': {'root_score': {}}, 'எழுந்துள்ளது': {'root_score': {'எழு': 100}}, 'வறண்ட': {'root_score': {'வறண்ட': 100, 'வறண்டி': 100, 'வறண்டு': 100}}, 'தேருக்கு': {'root_score': {'திருக்கு': 88}}, 'விரித்தான்': {'root_score': {'தலைவிரித்தான்': 100}}, 'பீமசேனன்': {'root_score': {'பீமசேனன்': 100}}, 'சிலசமயம்': {'root_score': {}}, 'பின்னணியில்': {'root_score': {}}, 'குருக்ஷேத்ரத்தின்': {'root_score': {}}, 'இருபுறத்திலிருந்தும்': {'root_score': {}}, 'விசோகன்': {'root_score': {'விசாகன்': 86}}, 'சுகதர்': {'root_score': {}}, 'சோமர்': {'root_score': {}}, 'சக்ரதனுஸ்': {'root_score': {}}, 'அத்திரிகள்': {'root_score': {}}, 'எச்சொல்லும்': {'root_score': {}}, 'குழந்தைகளின்': {'root_score': {}}, 'வைத்தன': {'root_score': {}}, 'மீள்கிறேன்': {'root_score': {}}, 'உகந்ததே': {'root_score': {'உகந்தது': 86, 'உகந்த': 100, 'உக': 100}}, 'கேட்டிருந்தான்': {'root_score': {}}, 'முதியோர்': {'root_score': {'முதியோர்': 100, 'ஆயுமுதியோர்': 100}}, 'நீராட்டி': {'root_score': {'நீராட்ட': 100, 'நீராட்டு': 88, 'நீரெட்டி': 88}}, 'வாள்களையும்': {'root_score': {}}, 'ஒருங்கிணைந்து': {'root_score': {}}, 'கொண்டுவரப்பட்ட': {'root_score': {}}, 'உருவாயின': {'root_score': {}}, 'உளநிலையில்': {'root_score': {'உள': 100}}, 'எழுந்தமைந்தன': {'root_score': {'எழு': 100}}, 'ஒளிகொண்டன': {'root_score': {}}, 'வெளுத்து': {'root_score': {}}, 'மாறாது': {'root_score': {}}, 'எஞ்ச': {'root_score': {'எஞ்சு': 100}}, 'மக்களும்': {'root_score': {'முதுமக்கள்': 86}}, 'எண்ணவும்': {'root_score': {}}, 'யமுனைக்கரையில்': {'root_score': {}}, 'எழுந்ததை': {'root_score': {'எழு': 100}}, 'அறிந்தாகவேண்டும்': {'root_score': {}}, 'அருளால்': {'root_score': {}}, 'அணுகுந்தோறும்': {'root_score': {}}, 'ஓசையிட்டது': {'root_score': {'ஓசை': 100}}, 'காடெங்கும்': {'root_score': {}}, 'கருகிய': {'root_score': {}}, 'புறம்': {'root_score': {'புறம்': 100}}, 'அதன்படி': {'root_score': {}}, 'ஈட்டி': {'root_score': {'ஈட்டி': 100}}, 'என்னவென்றால்': {'root_score': {'என்னவென்று': 90, 'என': 100}}, 'தொன்மையானது': {'root_score': {}}, 'ஆகவில்லை': {'root_score': {'ஆக': 100}}, 'மறந்துவிட்டேன்': {'root_score': {}}, 'பணிகளை': {'root_score': {'கள': 100}}, 'விடும்': {'root_score': {}}, 'தோள்களுடன்': {'root_score': {}}, 'விட்டுச்சென்ற': {'root_score': {}}, 'துரியோதனனுக்கு': {'root_score': {}}, 'மகிழ்வுடன்': {'root_score': {}}, 'பிறிதொன்றென': {'root_score': {}}, 'அணுகும்தோறும்': {'root_score': {}}, 'அவனுக்கான': {'root_score': {}}, 'அள்ள': {'root_score': {'அள்ள': 100, 'அள்ளி': 100, 'அள்ளு': 100, 'அள்ளை': 100}}, 'வகையிலும்': {'root_score': {}}, 'தெரிந்ததும்': {'root_score': {}}, 'எழுவரும்': {'root_score': {}}, 'ஓய்வெடுக்க': {'root_score': {}}, 'இப்புவியின்': {'root_score': {}}, 'கொள்கிறான்': {'root_score': {}}, 'தடுத்தது': {'root_score': {}}, 'மேடையேறி': {'root_score': {}}, 'எடையால்': {'root_score': {'எடை': 100}}, 'பெற்றான்': {'root_score': {'பெற்றான்': 100}}, 'சொல்கிறோம்': {'root_score': {}}, 'புகழை': {'root_score': {}}, 'நீரோடை': {'root_score': {'நீரோடை': 100}}, 'ஏற்ற': {'root_score': {'ஏற்ற': 100, 'ஏற்றி': 100, 'ஏற்று': 100, 'ஏற்றை': 100}}, 'நினைவுறுகிறேன்': {'root_score': {}}, 'தோற்றத்தில்': {'root_score': {}}, 'தேவைப்படும்': {'root_score': {}}, 'ஓய்வெடுங்கள்': {'root_score': {'ஓய்': 100}}, 'உரிமையில்லை': {'root_score': {'உரிமையில்': 100}}, 'இடத்திற்கு': {'root_score': {}}, 'அருந்தினான்': {'root_score': {}}, 'ஐம்பத்தாறு': {'root_score': {}}, 'போதாது': {'root_score': {}}, 'எங்களில்': {'root_score': {}}, 'தாக்கியது': {'root_score': {}}, 'உண்க': {'root_score': {}}, 'பேசுவதில்லை': {'root_score': {}}, 'எழுவதில்லை': {'root_score': {'எழு': 100}}, 'அக': {'root_score': {'அக': 100, 'அகி': 100, 'அகை': 100, 'அகோ': 100}}, 'சாந்தன்': {'root_score': {'சாந்தனு': 86, 'சாந்தன்': 100, 'சிந்தன்': 86}}, 'விண்ணாளும்': {'root_score': {}}, 'சுவர்களை': {'root_score': {}}, 'எழுந்தமைந்து': {'root_score': {}}, 'வேறேதோ': {'root_score': {}}, 'செய்வார்': {'root_score': {}}, 'ஏறினான்': {'root_score': {'ஏற': 100}}, 'திறந்திருக்க': {'root_score': {}}, 'மார்பிலும்': {'root_score': {}}, 'திசையில்': {'root_score': {}}, 'அழகன்': {'root_score': {'அழகன்': 100}}, 'அரசியரை': {'root_score': {'அர': 100, 'அரசி': 100}}, 'குலத்திற்கு': {'root_score': {}}, 'செங்கோலும்': {'root_score': {}}, 'இலைகளின்': {'root_score': {'இல': 100}}, 'மணக்க': {'root_score': {}}, 'வகுக்கப்பட்ட': {'root_score': {}}, 'பிளிறி': {'root_score': {}}, 'விலகிச்செல்ல': {'root_score': {}}, 'போலத்தான்': {'root_score': {}}, 'ஆண்மை': {'root_score': {'ஆண்மை': 100}}, 'தூண்': {'root_score': {}}, 'நெறிகளின்படி': {'root_score': {'கள': 100}}, 'தேவர்களுக்கு': {'root_score': {}}, 'யானைக்கு': {'root_score': {'யானைக்கை': 88}}, 'குருதிமணம்': {'root_score': {}}, 'சுந்தரர்': {'root_score': {}}, 'பார்த்தர்': {'root_score': {'பார்த்தர்': 100}}, 'ஆகலாம்': {'root_score': {}}, 'கற்க': {'root_score': {'கற்க': 100, 'கற்கா': 100, 'கற்கி': 100, 'கற்கு': 100}}, 'வாசலில்': {'root_score': {}}, 'என்பதற்காகவே': {'root_score': {'என': 100, 'என்': 100}}, 'உள்': {'root_score': {'உள': 100}}, 'ஆவதை': {'root_score': {'ஆவதை': 100, 'ஆவ': 100}}, 'கண்விழித்து': {'root_score': {'கண்விழித்தல்': 91}}, 'வேண்டுமென்றாலும்': {'root_score': {}}, 'சுஜாதை': {'root_score': {}}, 'முடிவற்ற': {'root_score': {}}, 'நாகத்தை': {'root_score': {}}, 'அக்கனவை': {'root_score': {'அக': 100}}, 'தொடை': {'root_score': {}}, 'குலத்தவர்': {'root_score': {}}, 'கசிந்து': {'root_score': {'கசிந்து': 100}}, 'எழுந்தவன்': {'root_score': {'எழு': 100, 'தவ': 100, 'தவன்': 100}}, 'பசித்து': {'root_score': {}}, 'கணிக்க': {'root_score': {}}, 'என்பர்': {'root_score': {'என': 100}}, 'குன்றின்': {'root_score': {}}, 'அடையமுடியும்': {'root_score': {}}, 'உண்டன': {'root_score': {'உண': 100}}, 'சுனையில்': {'root_score': {}}, 'போரும்': {'root_score': {}}, 'புரட்டி': {'root_score': {'பிரட்டி': 86, 'புரட்டு': 86}}, 'வாழமுடியும்': {'root_score': {}}, 'வந்திருக்கிறீர்கள்': {'root_score': {}}, 'அகத்தின்': {'root_score': {'அகத்தான்': 88, 'அகத்தி': 100}}, 'அரிசியும்': {'root_score': {}}, 'எதிர்க்க': {'root_score': {'எதிர்க்கை': 100}}, 'நிமித்திகரே': {'root_score': {'நிமித்திகர்': 91}}, 'சுஷமர்': {'root_score': {}}, 'நடந்தேன்': {'root_score': {}}, 'காலவர்': {'root_score': {}}, 'எண்ணிக்கொண்டிருந்தான்': {'root_score': {}}, 'பேரன்னை': {'root_score': {}}, 'ஓடிவந்தார்': {'root_score': {}}, 'பிருகு': {'root_score': {'பிருகு': 100}}, 'காத்திருக்கிறோம்': {'root_score': {'காத்திருக்க': 100}}, 'விஸ்வாமித்ரர்': {'root_score': {}}, 'நகரமெங்கும்': {'root_score': {}}, 'போரிட்டான்': {'root_score': {}}, 'அஸ்வர்': {'root_score': {}}, 'அதிகாலையில்': {'root_score': {}}, 'காரகன்': {'root_score': {'காரகன்': 100}}, 'பலாஹாஸ்வர்': {'root_score': {'பல': 100, 'பலா': 100}}, 'ஃபானுமான்': {'root_score': {}}, 'சால்வன்': {'root_score': {'செல்வன்': 86}}, 'சம்படை': {'root_score': {}}, 'பீஷ்மபிதாமகர்': {'root_score': {}}, 'விருஷகன்': {'root_score': {'விருஷகன்': 100}}, 'உத்தானபாதன்': {'root_score': {'உத்தானபாதன்': 100}}, 'கோயில்': {'root_score': {}}, 'தன்மை': {'root_score': {'தன்மை': 100}}, 'பார்க்கவி': {'root_score': {'பார்க்கவி': 100}}, 'இழுக்கும்': {'root_score': {'இழுக்கு': 100}}, 'சுடரும்': {'root_score': {}}, 'நோக்கியதும்': {'root_score': {}}, 'கட்டினர்': {'root_score': {}}, 'விண்ணுலகில்': {'root_score': {'விண்ணுலகு': 89}}, 'மலரிட்டு': {'root_score': {}}, 'வென்றபின்': {'root_score': {'ன்': 100}}, 'ஆணையிடுங்கள்': {'root_score': {'ஆணை': 100}}, 'அந்நகரம்': {'root_score': {'அந்': 100, 'கர': 100}}, 'பிறந்தார்': {'root_score': {}}, 'அன்னையுடன்': {'root_score': {}}, 'மெய்ப்புகொண்டு': {'root_score': {}}, 'தடுக்கும்': {'root_score': {}}, 'போர்க்கலை': {'root_score': {}}, 'அமர்வது': {'root_score': {'அமர': 100}}, 'ஆனாள்': {'root_score': {'ஆன': 100, 'ஆனா': 100}}, 'இடங்கள்': {'root_score': {'இட': 100}}, 'உலகுக்கு': {'root_score': {}}, 'காண்பீர்கள்': {'root_score': {}}, 'வந்தவள்': {'root_score': {'தவ': 100}}, 'சிறுமி': {'root_score': {'சிறுமி': 100}}, 'செந்நிறத்': {'root_score': {}}, 'அஞ்சாதே': {'root_score': {}}, 'எஞ்சியிருந்த': {'root_score': {}}, 'செல்வான்': {'root_score': {}}, 'வென்றவன்': {'root_score': {'வென்றவன்': 100, 'ன்': 100}}, 'முதன்முறையாக': {'root_score': {}}, 'மரங்களுக்கு': {'root_score': {'கள': 100}}, 'எதிர்பார்த்து': {'root_score': {'எதிர்பார்த்தல்': 92, 'எதிர்பார்ப்பு': 85}}, 'கடிவாளத்தைப்': {'root_score': {}}, 'தெளிந்தது': {'root_score': {}}, 'சந்திக்கச்': {'root_score': {}}, 'இவற்றில்': {'root_score': {}}, 'வாழ்த்துரை': {'root_score': {'வாழ்த்துரை': 100}}, 'போகிறேன்': {'root_score': {}}, 'சூழ்ந்துகொள்க': {'root_score': {}}, 'வேண்டியுள்ளது': {'root_score': {}}, 'கழற்றிவிட்டு': {'root_score': {}}, 'பொருட்டாக': {'root_score': {}}, 'புரிந்தான்': {'root_score': {}}, 'போலவோ': {'root_score': {}}, 'முறைமைகளும்': {'root_score': {}}, 'காம்பில்யத்தில்': {'root_score': {}}, 'உச்ச': {'root_score': {'உச்சி': 100, 'உச்சு': 100}}, 'வெட்டுண்டு': {'root_score': {}}, 'வெல்லவும்': {'root_score': {}}, 'சூது': {'root_score': {}}, 'பதின்மூன்று': {'root_score': {'பதின்மூன்று': 100}}, 'கோரும்': {'root_score': {}}, 'வராமல்': {'root_score': {}}, 'வெளிச்சத்தில்': {'root_score': {}}, 'ஒப்புமை': {'root_score': {'ஒப்புமை': 100, 'ஒப்புமுறி': 86, 'ஒப்புமொழி': 86}}, 'அப்புன்னகை': {'root_score': {'அப': 100}}, 'கற்பித்தார்': {'root_score': {}}, 'எந்நிலையில்': {'root_score': {}}, 'இரக்கமற்ற': {'root_score': {'இரக்கமற்ற': 100, 'இர': 100, 'இரக்கம்': 86}}, 'தந்தையால்': {'root_score': {}}, 'அளிக்கின்றன': {'root_score': {'அள': 100, 'அளி': 100}}, 'ஆக்க': {'root_score': {'ஆக்கு': 100, 'ஆக்கை': 100}}, 'எழுதப்பட்ட': {'root_score': {'தப்பட்டை': 93, 'எழு': 100}}, 'அரசருக்கும்': {'root_score': {}}, 'காற்றிலாடும்': {'root_score': {}}, 'நெளிவு': {'root_score': {'நெளிவு': 100}}, 'சென்றுவிட': {'root_score': {}}, 'கொண்டவர்களாக': {'root_score': {'கள': 100, 'களா': 100}}, 'அவையெங்கும்': {'root_score': {}}, 'விளையும்': {'root_score': {}}, 'இதன்பொருட்டு': {'root_score': {}}, 'குட்டிகள்': {'root_score': {'குட்டைகள்': 89}}, 'எண்ணினோம்': {'root_score': {}}, 'உரைத்தேன்': {'root_score': {}}, 'கேட்கவேண்டும்': {'root_score': {}}, 'திரும்பத்': {'root_score': {}}, 'ஏற்றுக்கொள்ள': {'root_score': {'ஏற்றுக்கொள்ள': 100, 'ஏற்றுக்கொள்': 100, 'ஏற்றுக்கொள்ளுதல்': 100}}, 'அரையிருளில்': {'root_score': {'அரையிருள்': 89, 'அர': 100}}, 'சேர': {'root_score': {}}, 'கணமென': {'root_score': {}}, 'ஆணும்': {'root_score': {}}, 'நாட்களுக்குள்': {'root_score': {}}, 'விருஷ்ணிகளின்': {'root_score': {'கள': 100, 'களி': 100}}, 'செவிகொள்ளவில்லை': {'root_score': {}}, 'மாறிக்கொண்டே': {'root_score': {}}, 'துறைமேடை': {'root_score': {}}, 'மறுபடியும்': {'root_score': {'மறுபடியும்': 100}}, 'தெளிந்தேன்': {'root_score': {}}, 'வந்துசேரும்': {'root_score': {}}, 'எதிர்கொண்டனர்': {'root_score': {}}, 'உய்த்துணர': {'root_score': {'உய்த்துணர': 100, 'உய்த்துணர்': 100, 'உய்த்துணர்தல்': 100, 'உய்த்துணர்மொழி': 100}}, 'விரிந்திருக்கும்': {'root_score': {}}, 'நீள்வட்ட': {'root_score': {'நீள்வட்ட': 100}}, 'இளையோனாகிய': {'root_score': {}}, 'கையசைக்க': {'root_score': {}}, 'இறந்தால்': {'root_score': {}}, 'திறந்திருந்தது': {'root_score': {}}, 'பொருட்களும்': {'root_score': {}}, 'முழுதாக': {'root_score': {}}, 'துளித்துளியாக': {'root_score': {}}, 'சூதர்களால்': {'root_score': {}}, 'பொதுவான': {'root_score': {}}, 'சுபாகுவும்': {'root_score': {}}, 'ஐயமின்றி': {'root_score': {'ஐய': 100}}, 'பூசனைகள்': {'root_score': {}}, 'வேதமோதி': {'root_score': {}}, 'மூதரசி': {'root_score': {}}, 'வந்துள்ளனர்': {'root_score': {}}, 'இருக்கமுடியாது': {'root_score': {}}, 'இருட்டு': {'root_score': {'இராட்டு': 86, 'இருட்டு': 100}}, 'ஏற்றிக்கொண்டு': {'root_score': {}}, 'துவண்டு': {'root_score': {'துவண்டை': 86}}, 'பிறிதை': {'root_score': {}}, 'மலைப்பாறை': {'root_score': {}}, 'உடலாக': {'root_score': {}}, 'விழைவுகள்': {'root_score': {'கள': 100}}, 'கம்சரின்': {'root_score': {}}, 'ஏறும்': {'root_score': {}}, 'மலையுச்சியில்': {'root_score': {}}, 'திரும்பிச்சென்றார்': {'root_score': {}}, 'தோழரே': {'root_score': {}}, 'யாழை': {'root_score': {'யாழ': 100}}, 'கிருதன்': {'root_score': {'கிராதன்': 86, 'கிரீதன்': 86, 'கிருதன்': 100}}, 'குருநிலையின்': {'root_score': {}}, 'அறிந்துகொண்டேன்': {'root_score': {}}, 'தெளிவு': {'root_score': {'தெளிவு': 100}}, 'சபரர்': {'root_score': {}}, 'பூசை': {'root_score': {}}, 'ஏகாக்ஷர்': {'root_score': {}}, 'துருமன்': {'root_score': {}}, 'சத்யஜித்': {'root_score': {}}, 'கவிதை': {'root_score': {'கவிதை': 100}}, 'வெளிவந்தது': {'root_score': {}}, 'தேவியின்': {'root_score': {}}, 'புலரியின்': {'root_score': {}}, 'மீதேறி': {'root_score': {}}, 'இமை': {'root_score': {'இமை': 100}}, 'திருதராஷ்டிர': {'root_score': {}}, 'நகை': {'root_score': {'நகை': 100, 'அகநகை': 100}}, 'காட்டினர்': {'root_score': {'கிட்டினர்': 89}}, 'கூறிய': {'root_score': {}}, 'குறுங்காட்டில்': {'root_score': {}}, 'வேல்களையும்': {'root_score': {}}, 'அறிந்திருக்கிறார்கள்': {'root_score': {}}, 'கன்றுகளை': {'root_score': {'குன்றுகள்': 88, 'கன': 100}}, 'செய்வதற்கொன்றுமில்லை': {'root_score': {}}, 'தரப்பு': {'root_score': {'தரப்பு': 100}}, 'இருவரை': {'root_score': {}}, 'விலக்கிவிட்டு': {'root_score': {}}, 'பீடத்திலிருந்து': {'root_score': {}}, 'இறங்கின': {'root_score': {}}, 'மயிற்பீலி': {'root_score': {'மயிற்பீலி': 100}}, 'தந்தைக்கும்': {'root_score': {}}, 'அழைத்த': {'root_score': {}}, 'அன்றும்': {'root_score': {}}, 'வழிபடும்': {'root_score': {}}, 'எண்ணினாலும்': {'root_score': {}}, 'சிறுவனாக': {'root_score': {}}, 'தோற்றத்தை': {'root_score': {}}, 'சென்றிருக்கிறான்': {'root_score': {}}, 'பேணி': {'root_score': {}}, 'சிரித்தும்': {'root_score': {}}, 'நாடெங்கும்': {'root_score': {}}, 'ஒதுங்கி': {'root_score': {'ஒதுங்கு': 86}}, 'படைக்கலங்களையும்': {'root_score': {}}, 'கொட்டிலில்': {'root_score': {}}, 'வந்திருக்கலாம்': {'root_score': {}}, 'களம்நின்று': {'root_score': {}}, 'இருக்குமென்றால்': {'root_score': {}}, 'எய்து': {'root_score': {'எய்த': 100, 'எய்து': 100}}, 'உடைக்க': {'root_score': {}}, 'வில்லைத்': {'root_score': {}}, 'இருந்தவர்கள்': {'root_score': {'இர': 100}}, 'விரைவுடன்': {'root_score': {}}, 'அளிக்கப்படவில்லை': {'root_score': {'அள': 100}}, 'பொறு': {'root_score': {}}, 'வந்துவிட்டோம்': {'root_score': {}}, 'சந்திப்பு': {'root_score': {'சந்திப்பு': 100, 'சந்திப்பாடு': 89, 'சந்திரப்பிறை': 89}}, 'அழுகையை': {'root_score': {}}, 'சற்றுமுன்னர்தான்': {'root_score': {}}, 'சிதையில்': {'root_score': {}}, 'கூட்டத்தில்': {'root_score': {'காட்டத்தி': 89}}, 'கிடைத்த': {'root_score': {}}, 'கணிகரே': {'root_score': {}}, 'இடப்பக்கமாக': {'root_score': {'இட': 100}}, 'தூணை': {'root_score': {}}, 'திரும்பிச்செல்ல': {'root_score': {}}, 'நாடுகளில்': {'root_score': {}}, 'சொல்லுடன்': {'root_score': {}}, 'மணந்தார்': {'root_score': {}}, 'நிகரானவன்': {'root_score': {'கர': 100, 'கரா': 100}}, 'இதுவல்ல': {'root_score': {'இது': 100}}, 'புதர்கள்': {'root_score': {}}, 'விழிகளைப்': {'root_score': {}}, 'பெருவெளி': {'root_score': {'பெருவெளி': 100}}, 'மூன்றும்': {'root_score': {'மூன்றுமா': 88}}, 'வண்டியை': {'root_score': {'வண்டியூர்': 86, 'வேண்டிய': 86}}, 'சந்திக்கவில்லை': {'root_score': {}}, 'மாணவனாக': {'root_score': {}}, 'நிறைந்துள்ளன': {'root_score': {}}, 'களங்களில்': {'root_score': {'கள': 100, 'களி': 100}}, 'கலிங்கமும்': {'root_score': {'கலிங்கம்': 88}}, 'வேதமே': {'root_score': {}}, 'ஓசையில்': {'root_score': {'ஓசை': 100}}, 'உடல்குறுக்கி': {'root_score': {}}, 'மணலை': {'root_score': {'மணலை': 100}}, 'சித்ரகேது': {'root_score': {}}, 'சோமகன்': {'root_score': {}}, 'பிடித்தபடி': {'root_score': {}}, 'அதிலும்': {'root_score': {}}, 'சூதர்களுக்கு': {'root_score': {}}, 'நெடுநாட்களாக': {'root_score': {}}, 'கூறினார்கள்': {'root_score': {}}, 'உச்சிப்பொழுதில்': {'root_score': {'உச்சிப்பொழுது': 92}}, 'உண்டபின்': {'root_score': {'உண': 100}}, 'மதுராவுக்கு': {'root_score': {}}, 'அஸ்தினபுரிக்கும்': {'root_score': {}}, 'முதலைகள்': {'root_score': {}}, 'அழுத்தமான': {'root_score': {'அழுத்தம்': 88}}, 'திருதராஷ்டிரரும்': {'root_score': {}}, 'களைத்த': {'root_score': {}}, 'பெருந்திரள்': {'root_score': {}}, 'தைத்த': {'root_score': {}}, 'இடைநாழியை': {'root_score': {'இட': 100}}, 'எட்டிப்பார்த்து': {'root_score': {}}, 'உடலைச்': {'root_score': {}}, 'அரக்கர்களும்': {'root_score': {'அர': 100, 'அரக்கர்': 100}}, 'போகும்': {'root_score': {}}, 'காறி': {'root_score': {}}, 'பாயும்': {'root_score': {}}, 'மழைத்துளிகள்': {'root_score': {'மழைத்துளி': 100, 'கள': 100}}, 'நதியின்': {'root_score': {}}, 'அகமும்': {'root_score': {}}, 'கதையின்': {'root_score': {}}, 'விட்டனர்': {'root_score': {}}, 'தன்னைப்': {'root_score': {}}, 'தின்று': {'root_score': {}}, 'கட்டுப்படுத்த': {'root_score': {'கட்டுப்படுத்த': 100, 'கட்டுப்படுத்து': 100, 'கட்டாயப்படுத்து': 85, 'கட்டுப்படுத்தல்': 100}}, 'திரும்பவில்லை': {'root_score': {}}, 'உம்மிடம்': {'root_score': {}}, 'தெய்வங்களுக்கும்': {'root_score': {}}, 'விலகினான்': {'root_score': {}}, 'இளமையின்': {'root_score': {'இளமையோன்': 88}}, 'குலங்களும்': {'root_score': {}}, 'சந்தனுவின்': {'root_score': {'சந்த': 100, 'சந்தனு': 100}}, 'அலறினான்': {'root_score': {'அல': 100, 'அலறி': 100}}, 'அரக்கரும்': {'root_score': {'அரக்கர்': 86, 'அர': 100}}, 'வாய்ப்புகள்': {'root_score': {}}, 'குழவிகள்': {'root_score': {}}, 'யாரது': {'root_score': {}}, 'கௌண்டின்யபுரியின்': {'root_score': {}}, 'கத்ரு': {'root_score': {}}, 'எருது': {'root_score': {'எருது': 100}}, 'விபுலை': {'root_score': {'விபுலை': 100}}, 'அதிகம்': {'root_score': {'அதிகம்': 100}}, 'காற்றே': {'root_score': {}}, 'குறுங்காட்டின்': {'root_score': {}}, 'குருதிபலி': {'root_score': {}}, 'பொறுத்தருளவேண்டும்': {'root_score': {}}, 'எதுவாக': {'root_score': {}}, 'பேரழிவை': {'root_score': {'பேரழிவு': 86}}, 'இடைவெளியை': {'root_score': {'இடைவெளி': 100}}, 'பிணைத்து': {'root_score': {}}, 'அருந்திவிட்டு': {'root_score': {}}, 'குலமுறை': {'root_score': {'குலமுறை': 100}}, 'வைத்துக்கொண்டாள்': {'root_score': {}}, 'பேரரசன்': {'root_score': {'பேரரசன்': 100}}, 'அன்னையையும்': {'root_score': {}}, 'மண்மறைந்த': {'root_score': {}}, 'அறிவிப்பை': {'root_score': {'அறிவிப்பு': 89}}, 'நீளமான': {'root_score': {'நீளமான': 100}}, 'காவல்மாடம்': {'root_score': {}}, 'அவர்களுக்குப்பின்னால்': {'root_score': {}}, 'விழைந்தாள்': {'root_score': {}}, 'நன்றல்ல': {'root_score': {}}, 'இல்லத்தை': {'root_score': {}}, 'விழித்திருக்கும்': {'root_score': {}}, 'கச்சை': {'root_score': {'கச்சை': 100}}, 'அதிலென்ன': {'root_score': {'அதி': 100}}, 'வளர்த்த': {'root_score': {'வளர்த்தி': 100, 'வளர்த்து': 100}}, 'இம்முடிவை': {'root_score': {}}, 'ஒளியின்': {'root_score': {'ஒளியோன்': 86, 'ஒளி': 100}}, 'எண்ணியதை': {'root_score': {'எண்': 100}}, 'அவளுக்கும்': {'root_score': {}}, 'வைத்திருந்தாள்': {'root_score': {}}, 'ஓரத்தில்': {'root_score': {}}, 'அணிவித்தனர்': {'root_score': {}}, 'திகைப்பும்': {'root_score': {}}, 'கட்டும்': {'root_score': {'கட்டுமா': 86, 'கட்டுமை': 86}}, 'நுண்வடிவில்': {'root_score': {}}, 'தனக்கான': {'root_score': {}}, 'அணிந்தபடி': {'root_score': {'அணி': 100}}, 'பரவியிருந்தன': {'root_score': {}}, 'எழுந்தமைய': {'root_score': {'எழு': 100, 'தம': 100}}, 'அன்றாட': {'root_score': {'அன்றாட': 100, 'அன்றாடு': 100, 'அன்றாடம்': 100}}, 'உள்ளங்கையில்': {'root_score': {}}, 'இளையோனின்': {'root_score': {'இளையோன்': 86, 'இளை': 100}}, 'நோயுற்ற': {'root_score': {}}, 'தொடர்ந்தது': {'root_score': {}}, 'வைத்திருந்தனர்': {'root_score': {}}, 'எழுந்தபின்': {'root_score': {'எழு': 100}}, 'ஆழமான': {'root_score': {'ஆழமான': 100, 'ஆழமானி': 100, 'ஆழமானகருத்து': 100}}, 'கடக்கும்': {'root_score': {'கடக்க': 100}}, 'நகுலனிடம்': {'root_score': {}}, 'சீற': {'root_score': {}}, 'பேசினால்': {'root_score': {}}, 'சிறப்பாக': {'root_score': {}}, 'உங்களைக்': {'root_score': {}}, 'தலைவணங்கிவிட்டு': {'root_score': {}}, 'குறைந்த': {'root_score': {}}, 'சொல்லுறுதி': {'root_score': {'சொல்லுறுதி': 100}}, 'இரந்து': {'root_score': {'இரந்து': 100, 'இரந்துணி': 100}}, 'உபப்பிலாவ்யத்தின்': {'root_score': {}}, 'சூழல்': {'root_score': {}}, 'வருவீர்கள்': {'root_score': {'கள': 100}}, 'அகலும்': {'root_score': {}}, 'அணுகும்போது': {'root_score': {}}, 'வீணன்': {'root_score': {'வீணன்': 100}}, 'வந்துவிடும்': {'root_score': {}}, 'நின்றிருக்கிறான்': {'root_score': {}}, 'தீயூழ்': {'root_score': {'தீயூழ்': 100}}, 'பிழையென': {'root_score': {}}, 'எல்லையற்ற': {'root_score': {'எல்': 100}}, 'கனகரிடம்': {'root_score': {'கன': 100}}, 'இந்நாட்டை': {'root_score': {}}, 'உள்ளத்திலும்': {'root_score': {}}, 'சூழலை': {'root_score': {}}, 'எஞ்சியவர்கள்': {'root_score': {'கள': 100}}, 'மலையை': {'root_score': {'மலைய': 100}}, 'வெல்லமுடியாத': {'root_score': {}}, 'ஓடையில்': {'root_score': {'ஓட': 100, 'ஓடை': 100}}, 'சந்தித்தபோது': {'root_score': {'சந்த': 100, 'சந்தி': 100}}, 'கண்களுக்கு': {'root_score': {}}, 'பொருதி': {'root_score': {}}, 'சென்றுகொண்டிருக்கிறது': {'root_score': {}}, 'புலவர்': {'root_score': {'புலவர்': 100}}, 'முனிவரை': {'root_score': {'முனிவர்': 86}}, 'உங்கள்மேல்': {'root_score': {'உங்கள்': 100}}, 'இதுநாள்வரை': {'root_score': {'இது': 100}}, 'வெளிப்படவில்லை': {'root_score': {}}, 'பார்த்தாயா': {'root_score': {}}, 'அவரா': {'root_score': {'அவ': 100}}, 'எண்ணியிருந்தான்': {'root_score': {}}, 'தங்களுக்கென': {'root_score': {'கள': 100}}, 'தொடங்கினால்': {'root_score': {}}, 'முன்பிருந்த': {'root_score': {}}, 'மாறிவிட்டிருந்தன': {'root_score': {}}, 'விஜயன்': {'root_score': {'ஜய': 100, 'ஜயன்': 100, 'ன்': 100}}, 'அனிலன்': {'root_score': {'அனிலன்': 100}}, 'மாறிய': {'root_score': {}}, 'நின்றிருந்தார்கள்': {'root_score': {}}, 'தாங்கும்': {'root_score': {}}, 'கடலின்': {'root_score': {'கட': 100, 'கடலி': 100}}, 'நிறமான': {'root_score': {'நிறமான': 100}}, 'இளவரசர்களும்': {'root_score': {'இளவரசர்': 100}}, 'பேசிக்கொண்டிருந்த': {'root_score': {}}, 'நடந்துசென்று': {'root_score': {}}, 'கூர்மர்': {'root_score': {}}, 'ஏனென்று': {'root_score': {'ஏனென்றால்': 86, 'ஏன': 100, 'ஏனென்': 100}}, 'நீண்டது': {'root_score': {'நீண்டது': 100, 'நீண்டதாடி': 86, 'நீண்டகதை': 86}}, 'மாறிவிட்டது': {'root_score': {}}, 'நிமிர்த்தி': {'root_score': {'நிமிர்த்து': 90}}, 'மணநிகழ்வு': {'root_score': {}}, 'கொள்ளவும்': {'root_score': {}}, 'சூழ்ந்திருந்தன': {'root_score': {}}, 'குதித்தான்': {'root_score': {}}, 'கனைத்தது': {'root_score': {}}, 'வரச்சொன்னேன்': {'root_score': {}}, 'அழைத்தேன்': {'root_score': {}}, 'திகைப்பை': {'root_score': {'திகைப்பு': 88}}, 'நாட்டரசர்': {'root_score': {}}, 'பொழுதை': {'root_score': {}}, 'துணைவர': {'root_score': {'துணைவர்': 100}}, 'ஈரமான': {'root_score': {'ஈரமானி': 100}}, 'சொல்லச்': {'root_score': {}}, 'நகுலனையும்': {'root_score': {}}, 'கேட்டுக்கொண்டு': {'root_score': {}}, 'இல்லாது': {'root_score': {}}, 'தங்கும்': {'root_score': {}}, 'சிறப்பு': {'root_score': {'சிறப்பி': 86, 'சிறப்பு': 100, 'சிறப்பை': 86}}, 'அவர்களுடைய': {'root_score': {'அவ': 100}}, 'விசைகொண்ட': {'root_score': {}}, 'ஸ்ரீகரர்': {'root_score': {'கர': 100}}, 'ஜராசந்தனை': {'root_score': {'சந்த': 100}}, 'முகத்தருகே': {'root_score': {}}, 'உணர்வும்': {'root_score': {'உணர்வு': 100}}, 'துணிந்து': {'root_score': {'துணிந்த': 100}}, 'உருவழிந்து': {'root_score': {}}, 'ஐம்பது': {'root_score': {'ஐம்பது': 100}}, 'மாற்றாக': {'root_score': {'மாற்றுகை': 86}}, 'இதுகாறும்': {'root_score': {'இதுகாறும்': 100}}, 'துளைத்து': {'root_score': {}}, 'விழிகளைச்': {'root_score': {}}, 'செவிகளும்': {'root_score': {}}, 'சுட்டுவிரலை': {'root_score': {'சுட்டுவிரல்': 91}}, 'ஒலிகளை': {'root_score': {'ஒலி': 100, 'கள': 100}}, 'அதன்பின்னர்தான்': {'root_score': {}}, 'கூறுவது': {'root_score': {}}, 'அமைச்சரின்': {'root_score': {'அமைச்சர்': 88}}, 'நெருப்பின்': {'root_score': {}}, 'என்றுமிருக்கும்': {'root_score': {}}, 'கொந்தளித்து': {'root_score': {}}, 'படுத்திருந்தார்': {'root_score': {}}, 'கொள்கிறார்': {'root_score': {}}, 'பெருவெள்ளம்': {'root_score': {'பெருவெள்ளம்': 100, 'ஏகப்பெருவெள்ளம்': 100}}, 'பாடினார்': {'root_score': {}}, 'அடுக்கு': {'root_score': {'அடுக்க': 100, 'அடுக்கு': 100}}, 'திரும்பிக்கொண்டார்': {'root_score': {}}, 'கிராதரும்': {'root_score': {'கிராதர்': 86}}, 'குந்திபோஜன்': {'root_score': {}}, 'கொண்டுசென்றார்': {'root_score': {}}, 'மதுவருந்தி': {'root_score': {'மதுவருந்து': 90}}, 'திருஷ்டத்யும்னனை': {'root_score': {}}, 'ஒவ்வொருமுறை': {'root_score': {}}, 'பார்க்கமுடிந்தது': {'root_score': {}}, 'வரதா': {'root_score': {}}, 'ருக்மியை': {'root_score': {}}, 'சாவை': {'root_score': {}}, 'கருணன்': {'root_score': {'கருணன்': 100, 'சகருணன்': 100}}, 'சால்வனின்': {'root_score': {}}, 'சுபத்ரை': {'root_score': {}}, 'சிந்துநாட்டு': {'root_score': {}}, 'பிரஹலாதன்': {'root_score': {'தன்': 100}}, 'கௌமாரன்': {'root_score': {'குமாரன்': 86}}, 'வித்யுதை': {'root_score': {}}, 'வஜ்ரர்': {'root_score': {}}, 'தொடர்ச்சியாக': {'root_score': {}}, 'போன்றவர்கள்': {'root_score': {'போன்றவர்': 100, 'கள': 100}}, 'பலகை': {'root_score': {'பலகை': 100, 'அச்சுப்பலகை': 100, 'அடர்த்திப்பலகை': 100}}, 'ஆடு': {'root_score': {'ஆடு': 100}}, 'என்கிறான்': {'root_score': {}}, 'மாளிகைகளும்': {'root_score': {}}, 'கோட்டைவாயிலை': {'root_score': {}}, 'மறுகையில்': {'root_score': {}}, 'அறியோம்': {'root_score': {}}, 'மைந்தனாகப்': {'root_score': {}}, 'திரும்பினாள்': {'root_score': {}}, 'நாமறியாத': {'root_score': {}}, 'மைந்தர்களுக்கு': {'root_score': {'கள': 100}}, 'பித்தன்': {'root_score': {'பித்தன்': 100, 'புத்தன்': 86, 'பெத்தன்': 86, 'பௌத்தன்': 86}}, 'அமைக்கப்பட்டன': {'root_score': {'அமை': 100}}, 'விழுந்ததும்': {'root_score': {}}, 'அறிந்தபின்': {'root_score': {'அற': 100, 'அறி': 100}}, 'இல்லங்களின்': {'root_score': {'இல': 100}}, 'அறிவியுங்கள்': {'root_score': {'அற': 100, 'அறி': 100, 'அறிவி': 100}}, 'தொட்டன': {'root_score': {}}, 'முத்தமிட்டான்': {'root_score': {}}, 'துடித்த': {'root_score': {}}, 'நீராட்டறை': {'root_score': {}}, 'சொன்னவற்றை': {'root_score': {}}, 'ஒளியாக': {'root_score': {}}, 'புன்னகையும்': {'root_score': {}}, 'இங்கிருந்த': {'root_score': {}}, 'அதிலேயே': {'root_score': {'அதி': 100}}, 'திகழ்வது': {'root_score': {}}, 'துள்ள': {'root_score': {'துள்ளி': 100, 'துள்ளு': 100}}, 'அதைக்கண்டு': {'root_score': {}}, 'வருவதற்காக': {'root_score': {'காகி': 86, 'காகு': 86}}, 'கண்டடைந்தார்': {'root_score': {}}, 'சொல்லிக்கொண்டு': {'root_score': {}}, 'தேவதாரு': {'root_score': {'தேவதாரி': 86, 'தேவதாரு': 100}}, 'பார்க்கிறார்கள்': {'root_score': {}}, 'அங்கேதான்': {'root_score': {}}, 'முழக்கி': {'root_score': {'முழக்கு': 86}}, 'அரைவட்ட': {'root_score': {}}, 'அரசுசூழ்தலில்': {'root_score': {'அர': 100, 'அரசு': 100}}, 'இளமைந்தன்': {'root_score': {'இளமை': 100}}, 'மெய்மையின்': {'root_score': {}}, 'பேசலாம்': {'root_score': {}}, 'வீழ்த்த': {'root_score': {'வாழ்த்து': 86, 'வீழ்த்து': 100}}, 'செவியும்': {'root_score': {}}, 'பொருளிழந்து': {'root_score': {}}, 'உள்ளுணர்வு': {'root_score': {'உள்ளுணர்வு': 100}}, 'முகப்புக்கு': {'root_score': {'முகப்பாக்கு': 91}}, 'சடங்குகளை': {'root_score': {'சடங்காக': 86, 'கள': 100}}, 'வரவேற்பு': {'root_score': {'வரவேற்பு': 100}}, 'செலுத்திய': {'root_score': {}}, 'உரியவை': {'root_score': {}}, 'துறக்க': {'root_score': {}}, 'விராடரின்': {'root_score': {}}, 'காட்டுக': {'root_score': {}}, 'சொல்லுக்காக': {'root_score': {}}, 'வருகையால்': {'root_score': {}}, 'ஒன்றைத்': {'root_score': {}}, 'ஒவ்வாமையை': {'root_score': {'ஒவ்வாமை': 100}}, 'சொல்லிவிட்டார்': {'root_score': {}}, 'இன்னீர்': {'root_score': {'இன்னார்': 86, 'இன்னீர்': 100}}, 'பட்டுத்': {'root_score': {}}, 'கருத்து': {'root_score': {'கருத்த': 100, 'கருத்தா': 86, 'கருத்து': 100}}, 'அளிக்கப்படவேண்டும்': {'root_score': {}}, 'மூடினான்': {'root_score': {}}, 'இதைவிட': {'root_score': {}}, 'அனைவராலும்': {'root_score': {}}, 'வந்துள்ள': {'root_score': {}}, 'எண்ணக்கூடும்': {'root_score': {}}, 'ஆற்றல்கொண்ட': {'root_score': {}}, 'இளையோரின்': {'root_score': {'இளையோர்': 86}}, 'வந்திருந்தான்': {'root_score': {'திருந்தார்': 90}}, 'அளிக்கிறார்கள்': {'root_score': {}}, 'காட்டிற்குள்': {'root_score': {}}, 'கட்டை': {'root_score': {'கட்டை': 100}}, 'பொருளற்றவை': {'root_score': {}}, 'விலகிச்சென்று': {'root_score': {}}, 'மத்ரரே': {'root_score': {}}, 'பெயரையும்': {'root_score': {}}, 'உரிமையை': {'root_score': {'உரிமையாளி': 86, 'உரிமையில்': 86}}, 'திரும்பிச்சென்று': {'root_score': {}}, 'பார்க்கவே': {'root_score': {'பார்க்கவி': 89}}, 'சவுக்கை': {'root_score': {'சவிக்கை': 86, 'சவுக்கு': 86, 'சவுக்கை': 100}}, 'வந்தடைந்தது': {'root_score': {'தட': 100}}, 'அனைவருக்குமே': {'root_score': {}}, 'எஞ்சுகிறது': {'root_score': {}}, 'முறைமைச்சொல்': {'root_score': {}}, 'முதல்வர்': {'root_score': {'முதல்வர்': 100}}, 'விலகின': {'root_score': {}}, 'உமிழ்ந்து': {'root_score': {}}, 'கட்டிக்கொண்டான்': {'root_score': {}}, 'அறிந்திருப்பார்கள்': {'root_score': {}}, 'கணங்களிலேயே': {'root_score': {}}, 'வினாக்கள்': {'root_score': {}}, 'வெண்': {'root_score': {}}, 'இளையவனாகிய': {'root_score': {}}, 'உரைக்கிறேன்': {'root_score': {}}, 'வெண்குடை': {'root_score': {'வெண்கிடை': 88, 'வெண்குடை': 100}}, 'சீரமைத்தபடி': {'root_score': {}}, 'சுற்றிக்': {'root_score': {}}, 'கிளம்பியது': {'root_score': {}}, 'செய்வதில்லை': {'root_score': {}}, 'தொடுகையை': {'root_score': {}}, 'வாயுடன்': {'root_score': {}}, 'வல்லமையை': {'root_score': {'வல்லமை': 100}}, 'வியாசரின்': {'root_score': {}}, 'வெளியேறினார்': {'root_score': {}}, 'பதைத்து': {'root_score': {}}, 'நீதி': {'root_score': {'நீதி': 100}}, 'ஆணவத்தின்': {'root_score': {}}, 'இசைச்சூதர்கள்': {'root_score': {'இசை': 100}}, 'கழுத்துத்': {'root_score': {}}, 'விறகு': {'root_score': {'விறகு': 100}}, 'நிலைகொண்ட': {'root_score': {}}, 'ஆர்ப்பரித்தனர்': {'root_score': {}}, 'பெற்றுக்கொண்டான்': {'root_score': {}}, 'சேடியை': {'root_score': {}}, 'போன்றவை': {'root_score': {}}, 'அந்நகரில்': {'root_score': {'அந்': 100, 'கர': 100}}, 'பிறிதொருவராக': {'root_score': {}}, 'திசைகளிலும்': {'root_score': {}}, 'மரக்கிளை': {'root_score': {'மரக்கிளை': 100}}, 'ஏவற்பெண்டு': {'root_score': {}}, 'இளவெயில்': {'root_score': {'இளவெயில்': 100}}, 'அருந்துக': {'root_score': {}}, 'இளவரசிகள்': {'root_score': {'இளவரசி': 100}}, 'அமர்ந்திருப்பது': {'root_score': {}}, 'கரந்த': {'root_score': {'கரந்தை': 100, 'கரந்துறை': 100}}, 'நிறைக்க': {'root_score': {}}, 'தலைசரித்து': {'root_score': {}}, 'அலையடித்து': {'root_score': {'அல': 100}}, 'செல்வதுபோல்': {'root_score': {}}, 'அன்றுமுதல்': {'root_score': {'அன்றுமுதல்': 100}}, 'கரும்பாறை': {'root_score': {'கரும்பிறை': 89}}, 'அலைய': {'root_score': {'அல': 100}}, 'கதவுகளை': {'root_score': {'கதவு': 100}}, 'கருங்கல்': {'root_score': {'கருங்கல்': 100, 'கருங்கடல்': 88}}, 'செந்நிறம்': {'root_score': {'செந்நிறம்': 100, 'செந்திறம்': 89}}, 'ஓங்கியபடி': {'root_score': {}}, 'சிம்மங்கள்': {'root_score': {'கள': 100}}, 'வென்றாலும்': {'root_score': {}}, 'உணர்ந்துகொண்டான்': {'root_score': {}}, 'உணர்ச்சிகளை': {'root_score': {'உணர்ச்சி': 100, 'உண': 100, 'உணர்': 100}}, 'வழிபட்டனர்': {'root_score': {'பட': 100}}, 'பொன்னிறமான': {'root_score': {}}, 'யோகியே': {'root_score': {}}, 'அச்சத்தில்': {'root_score': {'அச்சத்தி': 100}}, 'வட்டமாக': {'root_score': {}}, 'காற்றால்': {'root_score': {'காற்றாலை': 88}}, 'வரவேற்றார்': {'root_score': {'வர': 100}}, 'என்னுடையது': {'root_score': {'என': 100}}, 'வைத்தேன்': {'root_score': {}}, 'மானுடரே': {'root_score': {'மானுடர்': 86}}, 'மின்னிக்கொண்டிருந்தன': {'root_score': {}}, 'பாவனை': {'root_score': {'பாவனை': 100}}, 'தருமனிடம்': {'root_score': {'டம்': 100}}, 'வஞ்சத்துடன்': {'root_score': {}}, 'வாழ்வும்': {'root_score': {}}, 'எச்சமின்றி': {'root_score': {}}, 'வாழ்ந்தது': {'root_score': {}}, 'சததன்வாவின்': {'root_score': {}}, 'ஓடைகள்': {'root_score': {'ஓட': 100, 'ஓடை': 100}}, 'புல்லை': {'root_score': {}}, 'புரிந்துகொண்ட': {'root_score': {}}, 'வேறுவழியே': {'root_score': {}}, 'உத்தண்டன்': {'root_score': {}}, 'துச்சளையின்': {'root_score': {}}, 'தமயந்தியின்': {'root_score': {}}, 'சுதர்மன்': {'root_score': {'சுதர்மன்': 100}}, 'திடமான': {'root_score': {}}, 'நாமர்': {'root_score': {'நா': 100}}, 'பீமபலன்': {'root_score': {}}, 'வாழ்கிறார்': {'root_score': {}}, 'அவருக்கே': {'root_score': {}}, 'கொடுத்த': {'root_score': {'கொடித்தீ': 86}}, 'சுடரை': {'root_score': {}}, 'ஊருக்கு': {'root_score': {}}, 'பார்க்கமுடியும்': {'root_score': {}}, 'மீளவில்லை': {'root_score': {}}, 'அக்கதையை': {'root_score': {'அக்கதை': 100, 'அக': 100}}}\n"
          ]
        }
      ],
      "source": [
        "with open('output.pickle', 'rb') as handle:\n",
        "    b = pickle.load(handle)\n",
        "    print(dict(b))"
      ]
    },
    {
      "cell_type": "code",
      "execution_count": null,
      "metadata": {
        "colab": {
          "base_uri": "https://localhost:8080/"
        },
        "id": "Dsdb8bfhni2U",
        "outputId": "0a912435-a37e-4f98-eaf3-b783d7cdd761"
      },
      "outputs": [
        {
          "data": {
            "text/plain": [
              "False"
            ]
          },
          "execution_count": 20,
          "metadata": {},
          "output_type": "execute_result"
        }
      ],
      "source": [
        "\"விசாரணம்\" in b"
      ]
    },
    {
      "cell_type": "code",
      "execution_count": null,
      "metadata": {
        "id": "W2yqyUJdoJDm"
      },
      "outputs": [],
      "source": []
    }
  ],
  "metadata": {
    "colab": {
      "collapsed_sections": [],
      "name": "WordSplitting.ipynb",
      "provenance": []
    },
    "kernelspec": {
      "display_name": "Python 3.10.5 64-bit",
      "language": "python",
      "name": "python3"
    },
    "language_info": {
      "codemirror_mode": {
        "name": "ipython",
        "version": 3
      },
      "file_extension": ".py",
      "mimetype": "text/x-python",
      "name": "python",
      "nbconvert_exporter": "python",
      "pygments_lexer": "ipython3",
      "version": "3.10.5"
    },
    "vscode": {
      "interpreter": {
        "hash": "73261e48852d51a8619d3559d80afe0391a56a50e480a00694bcdf352813ba28"
      }
    }
  },
  "nbformat": 4,
  "nbformat_minor": 0
}
